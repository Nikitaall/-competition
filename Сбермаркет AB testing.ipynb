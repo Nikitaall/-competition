{
 "cells": [
  {
   "cell_type": "code",
   "execution_count": 117,
   "id": "affected-generator",
   "metadata": {},
   "outputs": [],
   "source": [
    "import pandas as pd\n",
    "import numpy as np\n",
    "import matplotlib.pyplot as plt\n",
    "import seaborn as sns\n",
    "sns.set_style(\"darkgrid\")\n",
    "from scipy import stats"
   ]
  },
  {
   "cell_type": "code",
   "execution_count": 118,
   "id": "original-click",
   "metadata": {},
   "outputs": [],
   "source": [
    "not_in_dz = pd.read_csv(r'C:\\Users\\User\\Desktop\\Прога\\Career Factory\\Address Not In Delivery Zone.csv')\n",
    "ab_test_hit = pd.read_csv(r'C:\\Users\\User\\Desktop\\Прога\\Career Factory\\AB Test Hit.csv')\n",
    "cart_click = pd.read_csv(r'C:\\Users\\User\\Desktop\\Прога\\Career Factory\\Add To Cart Clicked.csv')\n",
    "addr_change = pd.read_csv(r'C:\\Users\\User\\Desktop\\Прога\\Career Factory\\Address Change Initiated.csv')\n",
    "land_view = pd.read_csv(r'C:\\Users\\User\\Desktop\\Прога\\Career Factory\\Landing Viewed.csv')\n",
    "main_page_view = pd.read_csv(r'C:\\Users\\User\\Desktop\\Прога\\Career Factory\\Main Page Viewed.csv')\n",
    "order_completed = pd.read_csv(r'C:\\Users\\User\\Desktop\\Прога\\Career Factory\\Order Completed.csv')\n",
    "prod_added = pd.read_csv(r'C:\\Users\\User\\Desktop\\Прога\\Career Factory\\Product Added.csv')\n",
    "shop_celect_start = pd.read_csv(r'C:\\Users\\User\\Desktop\\Прога\\Career Factory\\Shop Celection Started.csv')\n",
    "shop_selected = pd.read_csv(r'C:\\Users\\User\\Desktop\\Прога\\Career Factory\\Shop Selected.csv')"
   ]
  },
  {
   "cell_type": "code",
   "execution_count": 119,
   "id": "sustained-ranking",
   "metadata": {},
   "outputs": [],
   "source": [
    "tables = [not_in_dz, ab_test_hit, cart_click, addr_change, land_view, main_page_view, order_completed, prod_added, shop_celect_start, shop_selected]"
   ]
  },
  {
   "cell_type": "code",
   "execution_count": 120,
   "id": "overhead-pride",
   "metadata": {},
   "outputs": [],
   "source": [
    "def df_descr(df):\n",
    "    print('Data samples:')\n",
    "    display(df.head(5))\n",
    "    \n",
    "    print('Data info:')\n",
    "    display(df.info())\n",
    "    \n",
    "    print('Number of missed values:')\n",
    "    print(df.isna().sum())\n",
    "    \n",
    "    print('Data describe:')\n",
    "    display(df.describe())\n",
    "    "
   ]
  },
  {
   "cell_type": "markdown",
   "id": "leading-accommodation",
   "metadata": {},
   "source": [
    "## Посмотрим на основную информацию о данных"
   ]
  },
  {
   "cell_type": "code",
   "execution_count": 121,
   "id": "separated-mistake",
   "metadata": {},
   "outputs": [
    {
     "name": "stdout",
     "output_type": "stream",
     "text": [
      "Data samples:\n"
     ]
    },
    {
     "data": {
      "text/html": [
       "<div>\n",
       "<style scoped>\n",
       "    .dataframe tbody tr th:only-of-type {\n",
       "        vertical-align: middle;\n",
       "    }\n",
       "\n",
       "    .dataframe tbody tr th {\n",
       "        vertical-align: top;\n",
       "    }\n",
       "\n",
       "    .dataframe thead th {\n",
       "        text-align: right;\n",
       "    }\n",
       "</style>\n",
       "<table border=\"1\" class=\"dataframe\">\n",
       "  <thead>\n",
       "    <tr style=\"text-align: right;\">\n",
       "      <th></th>\n",
       "      <th>timestamp</th>\n",
       "      <th>anonymous_id</th>\n",
       "    </tr>\n",
       "  </thead>\n",
       "  <tbody>\n",
       "    <tr>\n",
       "      <th>0</th>\n",
       "      <td>2020-11-29 18:23:55.997 UTC</td>\n",
       "      <td>000dece9-6e24-4ea0-861e-3d71a055fc37</td>\n",
       "    </tr>\n",
       "    <tr>\n",
       "      <th>1</th>\n",
       "      <td>2020-12-05 04:15:49.615 UTC</td>\n",
       "      <td>000fe246-60f5-4b91-b26b-6dd10760d565</td>\n",
       "    </tr>\n",
       "    <tr>\n",
       "      <th>2</th>\n",
       "      <td>2020-12-05 12:13:05.248 UTC</td>\n",
       "      <td>0037b3e8-2a0e-4e86-a0a1-b3dd1d06501c</td>\n",
       "    </tr>\n",
       "    <tr>\n",
       "      <th>3</th>\n",
       "      <td>2020-12-05 12:04:23.065 UTC</td>\n",
       "      <td>0037b3e8-2a0e-4e86-a0a1-b3dd1d06501c</td>\n",
       "    </tr>\n",
       "    <tr>\n",
       "      <th>4</th>\n",
       "      <td>2020-12-05 12:06:42.038 UTC</td>\n",
       "      <td>0037b3e8-2a0e-4e86-a0a1-b3dd1d06501c</td>\n",
       "    </tr>\n",
       "  </tbody>\n",
       "</table>\n",
       "</div>"
      ],
      "text/plain": [
       "                     timestamp                          anonymous_id\n",
       "0  2020-11-29 18:23:55.997 UTC  000dece9-6e24-4ea0-861e-3d71a055fc37\n",
       "1  2020-12-05 04:15:49.615 UTC  000fe246-60f5-4b91-b26b-6dd10760d565\n",
       "2  2020-12-05 12:13:05.248 UTC  0037b3e8-2a0e-4e86-a0a1-b3dd1d06501c\n",
       "3  2020-12-05 12:04:23.065 UTC  0037b3e8-2a0e-4e86-a0a1-b3dd1d06501c\n",
       "4  2020-12-05 12:06:42.038 UTC  0037b3e8-2a0e-4e86-a0a1-b3dd1d06501c"
      ]
     },
     "metadata": {},
     "output_type": "display_data"
    },
    {
     "name": "stdout",
     "output_type": "stream",
     "text": [
      "Data info:\n",
      "<class 'pandas.core.frame.DataFrame'>\n",
      "RangeIndex: 6167 entries, 0 to 6166\n",
      "Data columns (total 2 columns):\n",
      " #   Column        Non-Null Count  Dtype \n",
      "---  ------        --------------  ----- \n",
      " 0   timestamp     6167 non-null   object\n",
      " 1   anonymous_id  6167 non-null   object\n",
      "dtypes: object(2)\n",
      "memory usage: 96.5+ KB\n"
     ]
    },
    {
     "data": {
      "text/plain": [
       "None"
      ]
     },
     "metadata": {},
     "output_type": "display_data"
    },
    {
     "name": "stdout",
     "output_type": "stream",
     "text": [
      "Number of missed values:\n",
      "timestamp       0\n",
      "anonymous_id    0\n",
      "dtype: int64\n",
      "Data describe:\n"
     ]
    },
    {
     "data": {
      "text/html": [
       "<div>\n",
       "<style scoped>\n",
       "    .dataframe tbody tr th:only-of-type {\n",
       "        vertical-align: middle;\n",
       "    }\n",
       "\n",
       "    .dataframe tbody tr th {\n",
       "        vertical-align: top;\n",
       "    }\n",
       "\n",
       "    .dataframe thead th {\n",
       "        text-align: right;\n",
       "    }\n",
       "</style>\n",
       "<table border=\"1\" class=\"dataframe\">\n",
       "  <thead>\n",
       "    <tr style=\"text-align: right;\">\n",
       "      <th></th>\n",
       "      <th>timestamp</th>\n",
       "      <th>anonymous_id</th>\n",
       "    </tr>\n",
       "  </thead>\n",
       "  <tbody>\n",
       "    <tr>\n",
       "      <th>count</th>\n",
       "      <td>6167</td>\n",
       "      <td>6167</td>\n",
       "    </tr>\n",
       "    <tr>\n",
       "      <th>unique</th>\n",
       "      <td>6167</td>\n",
       "      <td>4152</td>\n",
       "    </tr>\n",
       "    <tr>\n",
       "      <th>top</th>\n",
       "      <td>2020-12-02 21:25:00.718 UTC</td>\n",
       "      <td>a57acfa0-eb39-4d42-bff6-3f3c9501065a</td>\n",
       "    </tr>\n",
       "    <tr>\n",
       "      <th>freq</th>\n",
       "      <td>1</td>\n",
       "      <td>59</td>\n",
       "    </tr>\n",
       "  </tbody>\n",
       "</table>\n",
       "</div>"
      ],
      "text/plain": [
       "                          timestamp                          anonymous_id\n",
       "count                          6167                                  6167\n",
       "unique                         6167                                  4152\n",
       "top     2020-12-02 21:25:00.718 UTC  a57acfa0-eb39-4d42-bff6-3f3c9501065a\n",
       "freq                              1                                    59"
      ]
     },
     "metadata": {},
     "output_type": "display_data"
    }
   ],
   "source": [
    "df_descr(not_in_dz)"
   ]
  },
  {
   "cell_type": "code",
   "execution_count": 122,
   "id": "empty-armor",
   "metadata": {},
   "outputs": [
    {
     "name": "stdout",
     "output_type": "stream",
     "text": [
      "Data samples:\n"
     ]
    },
    {
     "data": {
      "text/html": [
       "<div>\n",
       "<style scoped>\n",
       "    .dataframe tbody tr th:only-of-type {\n",
       "        vertical-align: middle;\n",
       "    }\n",
       "\n",
       "    .dataframe tbody tr th {\n",
       "        vertical-align: top;\n",
       "    }\n",
       "\n",
       "    .dataframe thead th {\n",
       "        text-align: right;\n",
       "    }\n",
       "</style>\n",
       "<table border=\"1\" class=\"dataframe\">\n",
       "  <thead>\n",
       "    <tr style=\"text-align: right;\">\n",
       "      <th></th>\n",
       "      <th>hit_at</th>\n",
       "      <th>anonymous_id</th>\n",
       "      <th>group</th>\n",
       "      <th>device_type</th>\n",
       "      <th>browser</th>\n",
       "      <th>os</th>\n",
       "    </tr>\n",
       "  </thead>\n",
       "  <tbody>\n",
       "    <tr>\n",
       "      <th>0</th>\n",
       "      <td>2020-11-30 04:21:38.616 UTC</td>\n",
       "      <td>3e05a2dc-3922-4caf-b837-08fcb337c82e</td>\n",
       "      <td>default</td>\n",
       "      <td>desktop</td>\n",
       "      <td>IE</td>\n",
       "      <td>Windows</td>\n",
       "    </tr>\n",
       "    <tr>\n",
       "      <th>1</th>\n",
       "      <td>2020-12-01 20:24:04.363 UTC</td>\n",
       "      <td>7f00b6ca-7938-4866-a323-c520838f5ef9</td>\n",
       "      <td>default</td>\n",
       "      <td>desktop</td>\n",
       "      <td>IE</td>\n",
       "      <td>Windows</td>\n",
       "    </tr>\n",
       "    <tr>\n",
       "      <th>2</th>\n",
       "      <td>2020-11-28 20:16:52.901 UTC</td>\n",
       "      <td>91e9900e-2cc6-4362-92b4-9e6712a6918e</td>\n",
       "      <td>address_first</td>\n",
       "      <td>desktop</td>\n",
       "      <td>IE</td>\n",
       "      <td>Windows</td>\n",
       "    </tr>\n",
       "    <tr>\n",
       "      <th>3</th>\n",
       "      <td>2020-11-29 13:29:40.557 UTC</td>\n",
       "      <td>616dd5e8-dee2-47aa-9d80-0dfadcf1922f</td>\n",
       "      <td>default</td>\n",
       "      <td>desktop</td>\n",
       "      <td>IE</td>\n",
       "      <td>Windows</td>\n",
       "    </tr>\n",
       "    <tr>\n",
       "      <th>4</th>\n",
       "      <td>2020-11-27 14:56:29.471 UTC</td>\n",
       "      <td>64734da4-d9f3-4d53-b401-4d0819a6e5fb</td>\n",
       "      <td>default</td>\n",
       "      <td>desktop</td>\n",
       "      <td>IE</td>\n",
       "      <td>Windows</td>\n",
       "    </tr>\n",
       "  </tbody>\n",
       "</table>\n",
       "</div>"
      ],
      "text/plain": [
       "                        hit_at                          anonymous_id  \\\n",
       "0  2020-11-30 04:21:38.616 UTC  3e05a2dc-3922-4caf-b837-08fcb337c82e   \n",
       "1  2020-12-01 20:24:04.363 UTC  7f00b6ca-7938-4866-a323-c520838f5ef9   \n",
       "2  2020-11-28 20:16:52.901 UTC  91e9900e-2cc6-4362-92b4-9e6712a6918e   \n",
       "3  2020-11-29 13:29:40.557 UTC  616dd5e8-dee2-47aa-9d80-0dfadcf1922f   \n",
       "4  2020-11-27 14:56:29.471 UTC  64734da4-d9f3-4d53-b401-4d0819a6e5fb   \n",
       "\n",
       "           group device_type browser       os  \n",
       "0        default     desktop      IE  Windows  \n",
       "1        default     desktop      IE  Windows  \n",
       "2  address_first     desktop      IE  Windows  \n",
       "3        default     desktop      IE  Windows  \n",
       "4        default     desktop      IE  Windows  "
      ]
     },
     "metadata": {},
     "output_type": "display_data"
    },
    {
     "name": "stdout",
     "output_type": "stream",
     "text": [
      "Data info:\n",
      "<class 'pandas.core.frame.DataFrame'>\n",
      "RangeIndex: 502784 entries, 0 to 502783\n",
      "Data columns (total 6 columns):\n",
      " #   Column        Non-Null Count   Dtype \n",
      "---  ------        --------------   ----- \n",
      " 0   hit_at        502784 non-null  object\n",
      " 1   anonymous_id  502784 non-null  object\n",
      " 2   group         502784 non-null  object\n",
      " 3   device_type   502784 non-null  object\n",
      " 4   browser       502784 non-null  object\n",
      " 5   os            502783 non-null  object\n",
      "dtypes: object(6)\n",
      "memory usage: 23.0+ MB\n"
     ]
    },
    {
     "data": {
      "text/plain": [
       "None"
      ]
     },
     "metadata": {},
     "output_type": "display_data"
    },
    {
     "name": "stdout",
     "output_type": "stream",
     "text": [
      "Number of missed values:\n",
      "hit_at          0\n",
      "anonymous_id    0\n",
      "group           0\n",
      "device_type     0\n",
      "browser         0\n",
      "os              1\n",
      "dtype: int64\n",
      "Data describe:\n"
     ]
    },
    {
     "data": {
      "text/html": [
       "<div>\n",
       "<style scoped>\n",
       "    .dataframe tbody tr th:only-of-type {\n",
       "        vertical-align: middle;\n",
       "    }\n",
       "\n",
       "    .dataframe tbody tr th {\n",
       "        vertical-align: top;\n",
       "    }\n",
       "\n",
       "    .dataframe thead th {\n",
       "        text-align: right;\n",
       "    }\n",
       "</style>\n",
       "<table border=\"1\" class=\"dataframe\">\n",
       "  <thead>\n",
       "    <tr style=\"text-align: right;\">\n",
       "      <th></th>\n",
       "      <th>hit_at</th>\n",
       "      <th>anonymous_id</th>\n",
       "      <th>group</th>\n",
       "      <th>device_type</th>\n",
       "      <th>browser</th>\n",
       "      <th>os</th>\n",
       "    </tr>\n",
       "  </thead>\n",
       "  <tbody>\n",
       "    <tr>\n",
       "      <th>count</th>\n",
       "      <td>502784</td>\n",
       "      <td>502784</td>\n",
       "      <td>502784</td>\n",
       "      <td>502784</td>\n",
       "      <td>502784</td>\n",
       "      <td>502783</td>\n",
       "    </tr>\n",
       "    <tr>\n",
       "      <th>unique</th>\n",
       "      <td>502470</td>\n",
       "      <td>489019</td>\n",
       "      <td>2</td>\n",
       "      <td>5</td>\n",
       "      <td>37</td>\n",
       "      <td>15</td>\n",
       "    </tr>\n",
       "    <tr>\n",
       "      <th>top</th>\n",
       "      <td>2020-12-03 05:33:34.021 UTC</td>\n",
       "      <td>5bb785fd-e0e7-447a-b0e1-a06328b31cbe</td>\n",
       "      <td>default</td>\n",
       "      <td>mobile</td>\n",
       "      <td>Chrome</td>\n",
       "      <td>Android</td>\n",
       "    </tr>\n",
       "    <tr>\n",
       "      <th>freq</th>\n",
       "      <td>3</td>\n",
       "      <td>18</td>\n",
       "      <td>446474</td>\n",
       "      <td>305530</td>\n",
       "      <td>250245</td>\n",
       "      <td>195489</td>\n",
       "    </tr>\n",
       "  </tbody>\n",
       "</table>\n",
       "</div>"
      ],
      "text/plain": [
       "                             hit_at                          anonymous_id  \\\n",
       "count                        502784                                502784   \n",
       "unique                       502470                                489019   \n",
       "top     2020-12-03 05:33:34.021 UTC  5bb785fd-e0e7-447a-b0e1-a06328b31cbe   \n",
       "freq                              3                                    18   \n",
       "\n",
       "          group device_type browser       os  \n",
       "count    502784      502784  502784   502783  \n",
       "unique        2           5      37       15  \n",
       "top     default      mobile  Chrome  Android  \n",
       "freq     446474      305530  250245   195489  "
      ]
     },
     "metadata": {},
     "output_type": "display_data"
    }
   ],
   "source": [
    "df_descr(ab_test_hit)"
   ]
  },
  {
   "cell_type": "code",
   "execution_count": 123,
   "id": "divided-powell",
   "metadata": {},
   "outputs": [
    {
     "name": "stdout",
     "output_type": "stream",
     "text": [
      "Data samples:\n"
     ]
    },
    {
     "data": {
      "text/html": [
       "<div>\n",
       "<style scoped>\n",
       "    .dataframe tbody tr th:only-of-type {\n",
       "        vertical-align: middle;\n",
       "    }\n",
       "\n",
       "    .dataframe tbody tr th {\n",
       "        vertical-align: top;\n",
       "    }\n",
       "\n",
       "    .dataframe thead th {\n",
       "        text-align: right;\n",
       "    }\n",
       "</style>\n",
       "<table border=\"1\" class=\"dataframe\">\n",
       "  <thead>\n",
       "    <tr style=\"text-align: right;\">\n",
       "      <th></th>\n",
       "      <th>timestamp</th>\n",
       "      <th>anonymous_id</th>\n",
       "    </tr>\n",
       "  </thead>\n",
       "  <tbody>\n",
       "    <tr>\n",
       "      <th>0</th>\n",
       "      <td>2020-11-30 03:08:30.345 UTC</td>\n",
       "      <td>04880e58-9530-46c2-bf03-b9bc21e72e99</td>\n",
       "    </tr>\n",
       "    <tr>\n",
       "      <th>1</th>\n",
       "      <td>2020-11-30 11:13:52.439 UTC</td>\n",
       "      <td>74526202-97a7-49d7-b312-91d93583c530</td>\n",
       "    </tr>\n",
       "    <tr>\n",
       "      <th>2</th>\n",
       "      <td>2020-11-30 09:11:38.708 UTC</td>\n",
       "      <td>d246c872-7a1e-4a02-9440-0908ba605f79</td>\n",
       "    </tr>\n",
       "    <tr>\n",
       "      <th>3</th>\n",
       "      <td>2020-11-30 09:42:22.833 UTC</td>\n",
       "      <td>71102afd-bcf1-4585-aaba-819b68554c79</td>\n",
       "    </tr>\n",
       "    <tr>\n",
       "      <th>4</th>\n",
       "      <td>2020-11-30 03:38:11.446 UTC</td>\n",
       "      <td>df194e6d-d88a-4b18-bf44-209992dd9f7e</td>\n",
       "    </tr>\n",
       "  </tbody>\n",
       "</table>\n",
       "</div>"
      ],
      "text/plain": [
       "                     timestamp                          anonymous_id\n",
       "0  2020-11-30 03:08:30.345 UTC  04880e58-9530-46c2-bf03-b9bc21e72e99\n",
       "1  2020-11-30 11:13:52.439 UTC  74526202-97a7-49d7-b312-91d93583c530\n",
       "2  2020-11-30 09:11:38.708 UTC  d246c872-7a1e-4a02-9440-0908ba605f79\n",
       "3  2020-11-30 09:42:22.833 UTC  71102afd-bcf1-4585-aaba-819b68554c79\n",
       "4  2020-11-30 03:38:11.446 UTC  df194e6d-d88a-4b18-bf44-209992dd9f7e"
      ]
     },
     "metadata": {},
     "output_type": "display_data"
    },
    {
     "name": "stdout",
     "output_type": "stream",
     "text": [
      "Data info:\n",
      "<class 'pandas.core.frame.DataFrame'>\n",
      "RangeIndex: 1223417 entries, 0 to 1223416\n",
      "Data columns (total 2 columns):\n",
      " #   Column        Non-Null Count    Dtype \n",
      "---  ------        --------------    ----- \n",
      " 0   timestamp     1223417 non-null  object\n",
      " 1   anonymous_id  1223417 non-null  object\n",
      "dtypes: object(2)\n",
      "memory usage: 18.7+ MB\n"
     ]
    },
    {
     "data": {
      "text/plain": [
       "None"
      ]
     },
     "metadata": {},
     "output_type": "display_data"
    },
    {
     "name": "stdout",
     "output_type": "stream",
     "text": [
      "Number of missed values:\n",
      "timestamp       0\n",
      "anonymous_id    0\n",
      "dtype: int64\n",
      "Data describe:\n"
     ]
    },
    {
     "data": {
      "text/html": [
       "<div>\n",
       "<style scoped>\n",
       "    .dataframe tbody tr th:only-of-type {\n",
       "        vertical-align: middle;\n",
       "    }\n",
       "\n",
       "    .dataframe tbody tr th {\n",
       "        vertical-align: top;\n",
       "    }\n",
       "\n",
       "    .dataframe thead th {\n",
       "        text-align: right;\n",
       "    }\n",
       "</style>\n",
       "<table border=\"1\" class=\"dataframe\">\n",
       "  <thead>\n",
       "    <tr style=\"text-align: right;\">\n",
       "      <th></th>\n",
       "      <th>timestamp</th>\n",
       "      <th>anonymous_id</th>\n",
       "    </tr>\n",
       "  </thead>\n",
       "  <tbody>\n",
       "    <tr>\n",
       "      <th>count</th>\n",
       "      <td>1223417</td>\n",
       "      <td>1223417</td>\n",
       "    </tr>\n",
       "    <tr>\n",
       "      <th>unique</th>\n",
       "      <td>1221588</td>\n",
       "      <td>70820</td>\n",
       "    </tr>\n",
       "    <tr>\n",
       "      <th>top</th>\n",
       "      <td>2020-12-08 16:50:18.141 UTC</td>\n",
       "      <td>3c223064-4496-450d-b502-04727851bc7c</td>\n",
       "    </tr>\n",
       "    <tr>\n",
       "      <th>freq</th>\n",
       "      <td>4</td>\n",
       "      <td>2124</td>\n",
       "    </tr>\n",
       "  </tbody>\n",
       "</table>\n",
       "</div>"
      ],
      "text/plain": [
       "                          timestamp                          anonymous_id\n",
       "count                       1223417                               1223417\n",
       "unique                      1221588                                 70820\n",
       "top     2020-12-08 16:50:18.141 UTC  3c223064-4496-450d-b502-04727851bc7c\n",
       "freq                              4                                  2124"
      ]
     },
     "metadata": {},
     "output_type": "display_data"
    }
   ],
   "source": [
    "df_descr(cart_click)"
   ]
  },
  {
   "cell_type": "code",
   "execution_count": 124,
   "id": "juvenile-studio",
   "metadata": {},
   "outputs": [
    {
     "name": "stdout",
     "output_type": "stream",
     "text": [
      "Data samples:\n"
     ]
    },
    {
     "data": {
      "text/html": [
       "<div>\n",
       "<style scoped>\n",
       "    .dataframe tbody tr th:only-of-type {\n",
       "        vertical-align: middle;\n",
       "    }\n",
       "\n",
       "    .dataframe tbody tr th {\n",
       "        vertical-align: top;\n",
       "    }\n",
       "\n",
       "    .dataframe thead th {\n",
       "        text-align: right;\n",
       "    }\n",
       "</style>\n",
       "<table border=\"1\" class=\"dataframe\">\n",
       "  <thead>\n",
       "    <tr style=\"text-align: right;\">\n",
       "      <th></th>\n",
       "      <th>timestamp</th>\n",
       "      <th>anonymous_id</th>\n",
       "      <th>source</th>\n",
       "    </tr>\n",
       "  </thead>\n",
       "  <tbody>\n",
       "    <tr>\n",
       "      <th>0</th>\n",
       "      <td>2020-12-17 16:52:48.751 UTC</td>\n",
       "      <td>01005c8a-9fae-463e-89de-c96ba54b33d5</td>\n",
       "      <td>add_alcohol</td>\n",
       "    </tr>\n",
       "    <tr>\n",
       "      <th>1</th>\n",
       "      <td>2020-12-07 19:47:02.284 UTC</td>\n",
       "      <td>033b1952-ff45-48ff-b26f-6cdb78d549a2</td>\n",
       "      <td>add_alcohol</td>\n",
       "    </tr>\n",
       "    <tr>\n",
       "      <th>2</th>\n",
       "      <td>2020-12-16 06:54:25.958 UTC</td>\n",
       "      <td>03fc2ae5-318f-4292-b1c8-68e59923cd4f</td>\n",
       "      <td>add_alcohol</td>\n",
       "    </tr>\n",
       "    <tr>\n",
       "      <th>3</th>\n",
       "      <td>2020-12-10 18:27:01.658 UTC</td>\n",
       "      <td>045a73a6-49cf-430a-81ba-80d0062d8bea</td>\n",
       "      <td>add_alcohol</td>\n",
       "    </tr>\n",
       "    <tr>\n",
       "      <th>4</th>\n",
       "      <td>2020-12-09 08:47:39.586 UTC</td>\n",
       "      <td>06bf46cd-3aa9-4526-8ad8-889b7dabbdfd</td>\n",
       "      <td>add_alcohol</td>\n",
       "    </tr>\n",
       "  </tbody>\n",
       "</table>\n",
       "</div>"
      ],
      "text/plain": [
       "                     timestamp                          anonymous_id  \\\n",
       "0  2020-12-17 16:52:48.751 UTC  01005c8a-9fae-463e-89de-c96ba54b33d5   \n",
       "1  2020-12-07 19:47:02.284 UTC  033b1952-ff45-48ff-b26f-6cdb78d549a2   \n",
       "2  2020-12-16 06:54:25.958 UTC  03fc2ae5-318f-4292-b1c8-68e59923cd4f   \n",
       "3  2020-12-10 18:27:01.658 UTC  045a73a6-49cf-430a-81ba-80d0062d8bea   \n",
       "4  2020-12-09 08:47:39.586 UTC  06bf46cd-3aa9-4526-8ad8-889b7dabbdfd   \n",
       "\n",
       "        source  \n",
       "0  add_alcohol  \n",
       "1  add_alcohol  \n",
       "2  add_alcohol  \n",
       "3  add_alcohol  \n",
       "4  add_alcohol  "
      ]
     },
     "metadata": {},
     "output_type": "display_data"
    },
    {
     "name": "stdout",
     "output_type": "stream",
     "text": [
      "Data info:\n",
      "<class 'pandas.core.frame.DataFrame'>\n",
      "RangeIndex: 103434 entries, 0 to 103433\n",
      "Data columns (total 3 columns):\n",
      " #   Column        Non-Null Count   Dtype \n",
      "---  ------        --------------   ----- \n",
      " 0   timestamp     103434 non-null  object\n",
      " 1   anonymous_id  103434 non-null  object\n",
      " 2   source        103434 non-null  object\n",
      "dtypes: object(3)\n",
      "memory usage: 2.4+ MB\n"
     ]
    },
    {
     "data": {
      "text/plain": [
       "None"
      ]
     },
     "metadata": {},
     "output_type": "display_data"
    },
    {
     "name": "stdout",
     "output_type": "stream",
     "text": [
      "Number of missed values:\n",
      "timestamp       0\n",
      "anonymous_id    0\n",
      "source          0\n",
      "dtype: int64\n",
      "Data describe:\n"
     ]
    },
    {
     "data": {
      "text/html": [
       "<div>\n",
       "<style scoped>\n",
       "    .dataframe tbody tr th:only-of-type {\n",
       "        vertical-align: middle;\n",
       "    }\n",
       "\n",
       "    .dataframe tbody tr th {\n",
       "        vertical-align: top;\n",
       "    }\n",
       "\n",
       "    .dataframe thead th {\n",
       "        text-align: right;\n",
       "    }\n",
       "</style>\n",
       "<table border=\"1\" class=\"dataframe\">\n",
       "  <thead>\n",
       "    <tr style=\"text-align: right;\">\n",
       "      <th></th>\n",
       "      <th>timestamp</th>\n",
       "      <th>anonymous_id</th>\n",
       "      <th>source</th>\n",
       "    </tr>\n",
       "  </thead>\n",
       "  <tbody>\n",
       "    <tr>\n",
       "      <th>count</th>\n",
       "      <td>103434</td>\n",
       "      <td>103434</td>\n",
       "      <td>103434</td>\n",
       "    </tr>\n",
       "    <tr>\n",
       "      <th>unique</th>\n",
       "      <td>103365</td>\n",
       "      <td>63185</td>\n",
       "      <td>5</td>\n",
       "    </tr>\n",
       "    <tr>\n",
       "      <th>top</th>\n",
       "      <td>2020-11-29 12:49:16.818 UTC</td>\n",
       "      <td>e2e64d66-3efa-46c7-bdc7-693120e26d64</td>\n",
       "      <td>add_product</td>\n",
       "    </tr>\n",
       "    <tr>\n",
       "      <th>freq</th>\n",
       "      <td>3</td>\n",
       "      <td>220</td>\n",
       "      <td>57265</td>\n",
       "    </tr>\n",
       "  </tbody>\n",
       "</table>\n",
       "</div>"
      ],
      "text/plain": [
       "                          timestamp                          anonymous_id  \\\n",
       "count                        103434                                103434   \n",
       "unique                       103365                                 63185   \n",
       "top     2020-11-29 12:49:16.818 UTC  e2e64d66-3efa-46c7-bdc7-693120e26d64   \n",
       "freq                              3                                   220   \n",
       "\n",
       "             source  \n",
       "count        103434  \n",
       "unique            5  \n",
       "top     add_product  \n",
       "freq          57265  "
      ]
     },
     "metadata": {},
     "output_type": "display_data"
    }
   ],
   "source": [
    "df_descr(addr_change)"
   ]
  },
  {
   "cell_type": "code",
   "execution_count": 125,
   "id": "amber-portugal",
   "metadata": {},
   "outputs": [
    {
     "name": "stdout",
     "output_type": "stream",
     "text": [
      "Data samples:\n"
     ]
    },
    {
     "data": {
      "text/html": [
       "<div>\n",
       "<style scoped>\n",
       "    .dataframe tbody tr th:only-of-type {\n",
       "        vertical-align: middle;\n",
       "    }\n",
       "\n",
       "    .dataframe tbody tr th {\n",
       "        vertical-align: top;\n",
       "    }\n",
       "\n",
       "    .dataframe thead th {\n",
       "        text-align: right;\n",
       "    }\n",
       "</style>\n",
       "<table border=\"1\" class=\"dataframe\">\n",
       "  <thead>\n",
       "    <tr style=\"text-align: right;\">\n",
       "      <th></th>\n",
       "      <th>timestamp</th>\n",
       "      <th>anonymous_id</th>\n",
       "    </tr>\n",
       "  </thead>\n",
       "  <tbody>\n",
       "    <tr>\n",
       "      <th>0</th>\n",
       "      <td>2020-12-05 10:01:51.305 UTC</td>\n",
       "      <td>00001104-4c72-4f48-bb8c-ace2ded63f8b</td>\n",
       "    </tr>\n",
       "    <tr>\n",
       "      <th>1</th>\n",
       "      <td>2020-12-08 11:07:39.962 UTC</td>\n",
       "      <td>00007575-88d6-4acc-9940-e9ccb8358dca</td>\n",
       "    </tr>\n",
       "    <tr>\n",
       "      <th>2</th>\n",
       "      <td>2020-12-03 13:12:37.952 UTC</td>\n",
       "      <td>00016e45-138b-401e-9eac-78b92d48c6c4</td>\n",
       "    </tr>\n",
       "    <tr>\n",
       "      <th>3</th>\n",
       "      <td>2020-12-02 16:03:37.548 UTC</td>\n",
       "      <td>0001814e-5cf7-4d23-bc95-4630d9152fc1</td>\n",
       "    </tr>\n",
       "    <tr>\n",
       "      <th>4</th>\n",
       "      <td>2020-12-01 08:24:51.787 UTC</td>\n",
       "      <td>00021d91-c65e-4049-9ae1-7d64702c8c12</td>\n",
       "    </tr>\n",
       "  </tbody>\n",
       "</table>\n",
       "</div>"
      ],
      "text/plain": [
       "                     timestamp                          anonymous_id\n",
       "0  2020-12-05 10:01:51.305 UTC  00001104-4c72-4f48-bb8c-ace2ded63f8b\n",
       "1  2020-12-08 11:07:39.962 UTC  00007575-88d6-4acc-9940-e9ccb8358dca\n",
       "2  2020-12-03 13:12:37.952 UTC  00016e45-138b-401e-9eac-78b92d48c6c4\n",
       "3  2020-12-02 16:03:37.548 UTC  0001814e-5cf7-4d23-bc95-4630d9152fc1\n",
       "4  2020-12-01 08:24:51.787 UTC  00021d91-c65e-4049-9ae1-7d64702c8c12"
      ]
     },
     "metadata": {},
     "output_type": "display_data"
    },
    {
     "name": "stdout",
     "output_type": "stream",
     "text": [
      "Data info:\n",
      "<class 'pandas.core.frame.DataFrame'>\n",
      "RangeIndex: 341481 entries, 0 to 341480\n",
      "Data columns (total 2 columns):\n",
      " #   Column        Non-Null Count   Dtype \n",
      "---  ------        --------------   ----- \n",
      " 0   timestamp     341481 non-null  object\n",
      " 1   anonymous_id  341481 non-null  object\n",
      "dtypes: object(2)\n",
      "memory usage: 5.2+ MB\n"
     ]
    },
    {
     "data": {
      "text/plain": [
       "None"
      ]
     },
     "metadata": {},
     "output_type": "display_data"
    },
    {
     "name": "stdout",
     "output_type": "stream",
     "text": [
      "Number of missed values:\n",
      "timestamp       0\n",
      "anonymous_id    0\n",
      "dtype: int64\n",
      "Data describe:\n"
     ]
    },
    {
     "data": {
      "text/html": [
       "<div>\n",
       "<style scoped>\n",
       "    .dataframe tbody tr th:only-of-type {\n",
       "        vertical-align: middle;\n",
       "    }\n",
       "\n",
       "    .dataframe tbody tr th {\n",
       "        vertical-align: top;\n",
       "    }\n",
       "\n",
       "    .dataframe thead th {\n",
       "        text-align: right;\n",
       "    }\n",
       "</style>\n",
       "<table border=\"1\" class=\"dataframe\">\n",
       "  <thead>\n",
       "    <tr style=\"text-align: right;\">\n",
       "      <th></th>\n",
       "      <th>timestamp</th>\n",
       "      <th>anonymous_id</th>\n",
       "    </tr>\n",
       "  </thead>\n",
       "  <tbody>\n",
       "    <tr>\n",
       "      <th>count</th>\n",
       "      <td>341481</td>\n",
       "      <td>341481</td>\n",
       "    </tr>\n",
       "    <tr>\n",
       "      <th>unique</th>\n",
       "      <td>341263</td>\n",
       "      <td>210922</td>\n",
       "    </tr>\n",
       "    <tr>\n",
       "      <th>top</th>\n",
       "      <td>2020-12-11 04:33:58.64 UTC</td>\n",
       "      <td>6368eb82-d361-4aca-869e-080f167e3b5f</td>\n",
       "    </tr>\n",
       "    <tr>\n",
       "      <th>freq</th>\n",
       "      <td>3</td>\n",
       "      <td>536</td>\n",
       "    </tr>\n",
       "  </tbody>\n",
       "</table>\n",
       "</div>"
      ],
      "text/plain": [
       "                         timestamp                          anonymous_id\n",
       "count                       341481                                341481\n",
       "unique                      341263                                210922\n",
       "top     2020-12-11 04:33:58.64 UTC  6368eb82-d361-4aca-869e-080f167e3b5f\n",
       "freq                             3                                   536"
      ]
     },
     "metadata": {},
     "output_type": "display_data"
    }
   ],
   "source": [
    "df_descr(land_view)"
   ]
  },
  {
   "cell_type": "code",
   "execution_count": 126,
   "id": "ranging-exercise",
   "metadata": {},
   "outputs": [
    {
     "name": "stdout",
     "output_type": "stream",
     "text": [
      "Data samples:\n"
     ]
    },
    {
     "data": {
      "text/html": [
       "<div>\n",
       "<style scoped>\n",
       "    .dataframe tbody tr th:only-of-type {\n",
       "        vertical-align: middle;\n",
       "    }\n",
       "\n",
       "    .dataframe tbody tr th {\n",
       "        vertical-align: top;\n",
       "    }\n",
       "\n",
       "    .dataframe thead th {\n",
       "        text-align: right;\n",
       "    }\n",
       "</style>\n",
       "<table border=\"1\" class=\"dataframe\">\n",
       "  <thead>\n",
       "    <tr style=\"text-align: right;\">\n",
       "      <th></th>\n",
       "      <th>timestamp</th>\n",
       "      <th>anonymous_id</th>\n",
       "      <th>retailer_id</th>\n",
       "    </tr>\n",
       "  </thead>\n",
       "  <tbody>\n",
       "    <tr>\n",
       "      <th>0</th>\n",
       "      <td>2020-11-29 08:54:57.64 UTC</td>\n",
       "      <td>00000782-154a-4159-ab12-6c34b658e375</td>\n",
       "      <td>1</td>\n",
       "    </tr>\n",
       "    <tr>\n",
       "      <th>1</th>\n",
       "      <td>2020-11-29 08:22:54.554 UTC</td>\n",
       "      <td>00000782-154a-4159-ab12-6c34b658e375</td>\n",
       "      <td>1</td>\n",
       "    </tr>\n",
       "    <tr>\n",
       "      <th>2</th>\n",
       "      <td>2020-11-30 10:56:52.877 UTC</td>\n",
       "      <td>00000782-154a-4159-ab12-6c34b658e375</td>\n",
       "      <td>1</td>\n",
       "    </tr>\n",
       "    <tr>\n",
       "      <th>3</th>\n",
       "      <td>2020-11-29 08:22:24.663 UTC</td>\n",
       "      <td>00000782-154a-4159-ab12-6c34b658e375</td>\n",
       "      <td>1</td>\n",
       "    </tr>\n",
       "    <tr>\n",
       "      <th>4</th>\n",
       "      <td>2020-11-29 09:07:11.648 UTC</td>\n",
       "      <td>00000782-154a-4159-ab12-6c34b658e375</td>\n",
       "      <td>1</td>\n",
       "    </tr>\n",
       "  </tbody>\n",
       "</table>\n",
       "</div>"
      ],
      "text/plain": [
       "                     timestamp                          anonymous_id  \\\n",
       "0   2020-11-29 08:54:57.64 UTC  00000782-154a-4159-ab12-6c34b658e375   \n",
       "1  2020-11-29 08:22:54.554 UTC  00000782-154a-4159-ab12-6c34b658e375   \n",
       "2  2020-11-30 10:56:52.877 UTC  00000782-154a-4159-ab12-6c34b658e375   \n",
       "3  2020-11-29 08:22:24.663 UTC  00000782-154a-4159-ab12-6c34b658e375   \n",
       "4  2020-11-29 09:07:11.648 UTC  00000782-154a-4159-ab12-6c34b658e375   \n",
       "\n",
       "   retailer_id  \n",
       "0            1  \n",
       "1            1  \n",
       "2            1  \n",
       "3            1  \n",
       "4            1  "
      ]
     },
     "metadata": {},
     "output_type": "display_data"
    },
    {
     "name": "stdout",
     "output_type": "stream",
     "text": [
      "Data info:\n",
      "<class 'pandas.core.frame.DataFrame'>\n",
      "RangeIndex: 613509 entries, 0 to 613508\n",
      "Data columns (total 3 columns):\n",
      " #   Column        Non-Null Count   Dtype \n",
      "---  ------        --------------   ----- \n",
      " 0   timestamp     613509 non-null  object\n",
      " 1   anonymous_id  613509 non-null  object\n",
      " 2   retailer_id   613509 non-null  int64 \n",
      "dtypes: int64(1), object(2)\n",
      "memory usage: 14.0+ MB\n"
     ]
    },
    {
     "data": {
      "text/plain": [
       "None"
      ]
     },
     "metadata": {},
     "output_type": "display_data"
    },
    {
     "name": "stdout",
     "output_type": "stream",
     "text": [
      "Number of missed values:\n",
      "timestamp       0\n",
      "anonymous_id    0\n",
      "retailer_id     0\n",
      "dtype: int64\n",
      "Data describe:\n"
     ]
    },
    {
     "data": {
      "text/html": [
       "<div>\n",
       "<style scoped>\n",
       "    .dataframe tbody tr th:only-of-type {\n",
       "        vertical-align: middle;\n",
       "    }\n",
       "\n",
       "    .dataframe tbody tr th {\n",
       "        vertical-align: top;\n",
       "    }\n",
       "\n",
       "    .dataframe thead th {\n",
       "        text-align: right;\n",
       "    }\n",
       "</style>\n",
       "<table border=\"1\" class=\"dataframe\">\n",
       "  <thead>\n",
       "    <tr style=\"text-align: right;\">\n",
       "      <th></th>\n",
       "      <th>retailer_id</th>\n",
       "    </tr>\n",
       "  </thead>\n",
       "  <tbody>\n",
       "    <tr>\n",
       "      <th>count</th>\n",
       "      <td>613509.000000</td>\n",
       "    </tr>\n",
       "    <tr>\n",
       "      <th>mean</th>\n",
       "      <td>51.981726</td>\n",
       "    </tr>\n",
       "    <tr>\n",
       "      <th>std</th>\n",
       "      <td>75.694402</td>\n",
       "    </tr>\n",
       "    <tr>\n",
       "      <th>min</th>\n",
       "      <td>1.000000</td>\n",
       "    </tr>\n",
       "    <tr>\n",
       "      <th>25%</th>\n",
       "      <td>1.000000</td>\n",
       "    </tr>\n",
       "    <tr>\n",
       "      <th>50%</th>\n",
       "      <td>29.000000</td>\n",
       "    </tr>\n",
       "    <tr>\n",
       "      <th>75%</th>\n",
       "      <td>57.000000</td>\n",
       "    </tr>\n",
       "    <tr>\n",
       "      <th>max</th>\n",
       "      <td>345.000000</td>\n",
       "    </tr>\n",
       "  </tbody>\n",
       "</table>\n",
       "</div>"
      ],
      "text/plain": [
       "         retailer_id\n",
       "count  613509.000000\n",
       "mean       51.981726\n",
       "std        75.694402\n",
       "min         1.000000\n",
       "25%         1.000000\n",
       "50%        29.000000\n",
       "75%        57.000000\n",
       "max       345.000000"
      ]
     },
     "metadata": {},
     "output_type": "display_data"
    }
   ],
   "source": [
    "df_descr(main_page_view)"
   ]
  },
  {
   "cell_type": "code",
   "execution_count": 127,
   "id": "desirable-walnut",
   "metadata": {},
   "outputs": [
    {
     "name": "stdout",
     "output_type": "stream",
     "text": [
      "Data samples:\n"
     ]
    },
    {
     "data": {
      "text/html": [
       "<div>\n",
       "<style scoped>\n",
       "    .dataframe tbody tr th:only-of-type {\n",
       "        vertical-align: middle;\n",
       "    }\n",
       "\n",
       "    .dataframe tbody tr th {\n",
       "        vertical-align: top;\n",
       "    }\n",
       "\n",
       "    .dataframe thead th {\n",
       "        text-align: right;\n",
       "    }\n",
       "</style>\n",
       "<table border=\"1\" class=\"dataframe\">\n",
       "  <thead>\n",
       "    <tr style=\"text-align: right;\">\n",
       "      <th></th>\n",
       "      <th>timestamp</th>\n",
       "      <th>anonymous_id</th>\n",
       "      <th>order_sum</th>\n",
       "    </tr>\n",
       "  </thead>\n",
       "  <tbody>\n",
       "    <tr>\n",
       "      <th>0</th>\n",
       "      <td>2020-12-10 09:23:09.195 UTC</td>\n",
       "      <td>3343c486-8d88-44a6-87e5-5c1631e3db3d</td>\n",
       "      <td>3746.231921</td>\n",
       "    </tr>\n",
       "    <tr>\n",
       "      <th>1</th>\n",
       "      <td>2020-12-10 13:11:07.166 UTC</td>\n",
       "      <td>c4491ab9-e59e-444e-bd92-c462830e4b5b</td>\n",
       "      <td>1619.242047</td>\n",
       "    </tr>\n",
       "    <tr>\n",
       "      <th>2</th>\n",
       "      <td>2020-12-10 15:42:29.153 UTC</td>\n",
       "      <td>82f2bac5-8c73-4ed2-8022-27fa0dbd8fc2</td>\n",
       "      <td>2439.605901</td>\n",
       "    </tr>\n",
       "    <tr>\n",
       "      <th>3</th>\n",
       "      <td>2020-12-10 17:04:52.163 UTC</td>\n",
       "      <td>fffb6076-550e-445e-8227-68219671113a</td>\n",
       "      <td>1288.577888</td>\n",
       "    </tr>\n",
       "    <tr>\n",
       "      <th>4</th>\n",
       "      <td>2020-12-10 21:25:58.898 UTC</td>\n",
       "      <td>00e258f1-7908-467e-a66e-d42284ea3f2d</td>\n",
       "      <td>6875.955129</td>\n",
       "    </tr>\n",
       "  </tbody>\n",
       "</table>\n",
       "</div>"
      ],
      "text/plain": [
       "                     timestamp                          anonymous_id  \\\n",
       "0  2020-12-10 09:23:09.195 UTC  3343c486-8d88-44a6-87e5-5c1631e3db3d   \n",
       "1  2020-12-10 13:11:07.166 UTC  c4491ab9-e59e-444e-bd92-c462830e4b5b   \n",
       "2  2020-12-10 15:42:29.153 UTC  82f2bac5-8c73-4ed2-8022-27fa0dbd8fc2   \n",
       "3  2020-12-10 17:04:52.163 UTC  fffb6076-550e-445e-8227-68219671113a   \n",
       "4  2020-12-10 21:25:58.898 UTC  00e258f1-7908-467e-a66e-d42284ea3f2d   \n",
       "\n",
       "     order_sum  \n",
       "0  3746.231921  \n",
       "1  1619.242047  \n",
       "2  2439.605901  \n",
       "3  1288.577888  \n",
       "4  6875.955129  "
      ]
     },
     "metadata": {},
     "output_type": "display_data"
    },
    {
     "name": "stdout",
     "output_type": "stream",
     "text": [
      "Data info:\n",
      "<class 'pandas.core.frame.DataFrame'>\n",
      "RangeIndex: 16650 entries, 0 to 16649\n",
      "Data columns (total 3 columns):\n",
      " #   Column        Non-Null Count  Dtype  \n",
      "---  ------        --------------  -----  \n",
      " 0   timestamp     16650 non-null  object \n",
      " 1   anonymous_id  16650 non-null  object \n",
      " 2   order_sum     16650 non-null  float64\n",
      "dtypes: float64(1), object(2)\n",
      "memory usage: 390.4+ KB\n"
     ]
    },
    {
     "data": {
      "text/plain": [
       "None"
      ]
     },
     "metadata": {},
     "output_type": "display_data"
    },
    {
     "name": "stdout",
     "output_type": "stream",
     "text": [
      "Number of missed values:\n",
      "timestamp       0\n",
      "anonymous_id    0\n",
      "order_sum       0\n",
      "dtype: int64\n",
      "Data describe:\n"
     ]
    },
    {
     "data": {
      "text/html": [
       "<div>\n",
       "<style scoped>\n",
       "    .dataframe tbody tr th:only-of-type {\n",
       "        vertical-align: middle;\n",
       "    }\n",
       "\n",
       "    .dataframe tbody tr th {\n",
       "        vertical-align: top;\n",
       "    }\n",
       "\n",
       "    .dataframe thead th {\n",
       "        text-align: right;\n",
       "    }\n",
       "</style>\n",
       "<table border=\"1\" class=\"dataframe\">\n",
       "  <thead>\n",
       "    <tr style=\"text-align: right;\">\n",
       "      <th></th>\n",
       "      <th>order_sum</th>\n",
       "    </tr>\n",
       "  </thead>\n",
       "  <tbody>\n",
       "    <tr>\n",
       "      <th>count</th>\n",
       "      <td>16650.000000</td>\n",
       "    </tr>\n",
       "    <tr>\n",
       "      <th>mean</th>\n",
       "      <td>6285.166021</td>\n",
       "    </tr>\n",
       "    <tr>\n",
       "      <th>std</th>\n",
       "      <td>10821.989677</td>\n",
       "    </tr>\n",
       "    <tr>\n",
       "      <th>min</th>\n",
       "      <td>3.382452</td>\n",
       "    </tr>\n",
       "    <tr>\n",
       "      <th>25%</th>\n",
       "      <td>2272.496848</td>\n",
       "    </tr>\n",
       "    <tr>\n",
       "      <th>50%</th>\n",
       "      <td>4112.035163</td>\n",
       "    </tr>\n",
       "    <tr>\n",
       "      <th>75%</th>\n",
       "      <td>7388.302018</td>\n",
       "    </tr>\n",
       "    <tr>\n",
       "      <th>max</th>\n",
       "      <td>530038.408148</td>\n",
       "    </tr>\n",
       "  </tbody>\n",
       "</table>\n",
       "</div>"
      ],
      "text/plain": [
       "           order_sum\n",
       "count   16650.000000\n",
       "mean     6285.166021\n",
       "std     10821.989677\n",
       "min         3.382452\n",
       "25%      2272.496848\n",
       "50%      4112.035163\n",
       "75%      7388.302018\n",
       "max    530038.408148"
      ]
     },
     "metadata": {},
     "output_type": "display_data"
    }
   ],
   "source": [
    "df_descr(order_completed)"
   ]
  },
  {
   "cell_type": "code",
   "execution_count": 128,
   "id": "cooked-gibraltar",
   "metadata": {},
   "outputs": [
    {
     "name": "stdout",
     "output_type": "stream",
     "text": [
      "Data samples:\n"
     ]
    },
    {
     "data": {
      "text/html": [
       "<div>\n",
       "<style scoped>\n",
       "    .dataframe tbody tr th:only-of-type {\n",
       "        vertical-align: middle;\n",
       "    }\n",
       "\n",
       "    .dataframe tbody tr th {\n",
       "        vertical-align: top;\n",
       "    }\n",
       "\n",
       "    .dataframe thead th {\n",
       "        text-align: right;\n",
       "    }\n",
       "</style>\n",
       "<table border=\"1\" class=\"dataframe\">\n",
       "  <thead>\n",
       "    <tr style=\"text-align: right;\">\n",
       "      <th></th>\n",
       "      <th>timestamp</th>\n",
       "      <th>anonymous_id</th>\n",
       "    </tr>\n",
       "  </thead>\n",
       "  <tbody>\n",
       "    <tr>\n",
       "      <th>0</th>\n",
       "      <td>2020-12-09 20:51:32.429 UTC</td>\n",
       "      <td>e2d50ef1-0667-4da4-88ef-ecbdd7c6a73a</td>\n",
       "    </tr>\n",
       "    <tr>\n",
       "      <th>1</th>\n",
       "      <td>2020-12-09 19:39:10.216 UTC</td>\n",
       "      <td>bb5ca977-97f4-4ec8-8a71-fe206108917b</td>\n",
       "    </tr>\n",
       "    <tr>\n",
       "      <th>2</th>\n",
       "      <td>2020-12-09 21:53:08.999 UTC</td>\n",
       "      <td>8e965f2b-7da0-4efb-84f5-f205956e8c30</td>\n",
       "    </tr>\n",
       "    <tr>\n",
       "      <th>3</th>\n",
       "      <td>2020-12-09 19:46:22.307 UTC</td>\n",
       "      <td>bb5ca977-97f4-4ec8-8a71-fe206108917b</td>\n",
       "    </tr>\n",
       "    <tr>\n",
       "      <th>4</th>\n",
       "      <td>2020-12-09 22:16:13.379 UTC</td>\n",
       "      <td>8e965f2b-7da0-4efb-84f5-f205956e8c30</td>\n",
       "    </tr>\n",
       "  </tbody>\n",
       "</table>\n",
       "</div>"
      ],
      "text/plain": [
       "                     timestamp                          anonymous_id\n",
       "0  2020-12-09 20:51:32.429 UTC  e2d50ef1-0667-4da4-88ef-ecbdd7c6a73a\n",
       "1  2020-12-09 19:39:10.216 UTC  bb5ca977-97f4-4ec8-8a71-fe206108917b\n",
       "2  2020-12-09 21:53:08.999 UTC  8e965f2b-7da0-4efb-84f5-f205956e8c30\n",
       "3  2020-12-09 19:46:22.307 UTC  bb5ca977-97f4-4ec8-8a71-fe206108917b\n",
       "4  2020-12-09 22:16:13.379 UTC  8e965f2b-7da0-4efb-84f5-f205956e8c30"
      ]
     },
     "metadata": {},
     "output_type": "display_data"
    },
    {
     "name": "stdout",
     "output_type": "stream",
     "text": [
      "Data info:\n",
      "<class 'pandas.core.frame.DataFrame'>\n",
      "RangeIndex: 1150060 entries, 0 to 1150059\n",
      "Data columns (total 2 columns):\n",
      " #   Column        Non-Null Count    Dtype \n",
      "---  ------        --------------    ----- \n",
      " 0   timestamp     1150060 non-null  object\n",
      " 1   anonymous_id  1150060 non-null  object\n",
      "dtypes: object(2)\n",
      "memory usage: 17.5+ MB\n"
     ]
    },
    {
     "data": {
      "text/plain": [
       "None"
      ]
     },
     "metadata": {},
     "output_type": "display_data"
    },
    {
     "name": "stdout",
     "output_type": "stream",
     "text": [
      "Number of missed values:\n",
      "timestamp       0\n",
      "anonymous_id    0\n",
      "dtype: int64\n",
      "Data describe:\n"
     ]
    },
    {
     "data": {
      "text/html": [
       "<div>\n",
       "<style scoped>\n",
       "    .dataframe tbody tr th:only-of-type {\n",
       "        vertical-align: middle;\n",
       "    }\n",
       "\n",
       "    .dataframe tbody tr th {\n",
       "        vertical-align: top;\n",
       "    }\n",
       "\n",
       "    .dataframe thead th {\n",
       "        text-align: right;\n",
       "    }\n",
       "</style>\n",
       "<table border=\"1\" class=\"dataframe\">\n",
       "  <thead>\n",
       "    <tr style=\"text-align: right;\">\n",
       "      <th></th>\n",
       "      <th>timestamp</th>\n",
       "      <th>anonymous_id</th>\n",
       "    </tr>\n",
       "  </thead>\n",
       "  <tbody>\n",
       "    <tr>\n",
       "      <th>count</th>\n",
       "      <td>1150060</td>\n",
       "      <td>1150060</td>\n",
       "    </tr>\n",
       "    <tr>\n",
       "      <th>unique</th>\n",
       "      <td>1148607</td>\n",
       "      <td>44123</td>\n",
       "    </tr>\n",
       "    <tr>\n",
       "      <th>top</th>\n",
       "      <td>2020-12-08 11:43:24.023 UTC</td>\n",
       "      <td>3e5732f3-b0fb-4c1f-8bed-dd7a68994585</td>\n",
       "    </tr>\n",
       "    <tr>\n",
       "      <th>freq</th>\n",
       "      <td>4</td>\n",
       "      <td>1031</td>\n",
       "    </tr>\n",
       "  </tbody>\n",
       "</table>\n",
       "</div>"
      ],
      "text/plain": [
       "                          timestamp                          anonymous_id\n",
       "count                       1150060                               1150060\n",
       "unique                      1148607                                 44123\n",
       "top     2020-12-08 11:43:24.023 UTC  3e5732f3-b0fb-4c1f-8bed-dd7a68994585\n",
       "freq                              4                                  1031"
      ]
     },
     "metadata": {},
     "output_type": "display_data"
    }
   ],
   "source": [
    "df_descr(prod_added)"
   ]
  },
  {
   "cell_type": "code",
   "execution_count": 129,
   "id": "nuclear-television",
   "metadata": {},
   "outputs": [
    {
     "name": "stdout",
     "output_type": "stream",
     "text": [
      "Data samples:\n"
     ]
    },
    {
     "data": {
      "text/html": [
       "<div>\n",
       "<style scoped>\n",
       "    .dataframe tbody tr th:only-of-type {\n",
       "        vertical-align: middle;\n",
       "    }\n",
       "\n",
       "    .dataframe tbody tr th {\n",
       "        vertical-align: top;\n",
       "    }\n",
       "\n",
       "    .dataframe thead th {\n",
       "        text-align: right;\n",
       "    }\n",
       "</style>\n",
       "<table border=\"1\" class=\"dataframe\">\n",
       "  <thead>\n",
       "    <tr style=\"text-align: right;\">\n",
       "      <th></th>\n",
       "      <th>timestamp</th>\n",
       "      <th>anonymous_id</th>\n",
       "      <th>source</th>\n",
       "    </tr>\n",
       "  </thead>\n",
       "  <tbody>\n",
       "    <tr>\n",
       "      <th>0</th>\n",
       "      <td>2020-12-01 09:49:12.615 UTC</td>\n",
       "      <td>1da378e1-ad44-48d6-8002-f39c59b3e21e</td>\n",
       "      <td>header</td>\n",
       "    </tr>\n",
       "    <tr>\n",
       "      <th>1</th>\n",
       "      <td>2020-12-01 03:17:26.084 UTC</td>\n",
       "      <td>a182785b-5da1-4445-92a6-c6ddafcc65df</td>\n",
       "      <td>header</td>\n",
       "    </tr>\n",
       "    <tr>\n",
       "      <th>2</th>\n",
       "      <td>2020-12-01 03:16:11.65 UTC</td>\n",
       "      <td>a182785b-5da1-4445-92a6-c6ddafcc65df</td>\n",
       "      <td>header</td>\n",
       "    </tr>\n",
       "    <tr>\n",
       "      <th>3</th>\n",
       "      <td>2020-12-01 03:15:10.845 UTC</td>\n",
       "      <td>a182785b-5da1-4445-92a6-c6ddafcc65df</td>\n",
       "      <td>header</td>\n",
       "    </tr>\n",
       "    <tr>\n",
       "      <th>4</th>\n",
       "      <td>2020-12-01 03:16:54.069 UTC</td>\n",
       "      <td>a182785b-5da1-4445-92a6-c6ddafcc65df</td>\n",
       "      <td>header</td>\n",
       "    </tr>\n",
       "  </tbody>\n",
       "</table>\n",
       "</div>"
      ],
      "text/plain": [
       "                     timestamp                          anonymous_id  source\n",
       "0  2020-12-01 09:49:12.615 UTC  1da378e1-ad44-48d6-8002-f39c59b3e21e  header\n",
       "1  2020-12-01 03:17:26.084 UTC  a182785b-5da1-4445-92a6-c6ddafcc65df  header\n",
       "2   2020-12-01 03:16:11.65 UTC  a182785b-5da1-4445-92a6-c6ddafcc65df  header\n",
       "3  2020-12-01 03:15:10.845 UTC  a182785b-5da1-4445-92a6-c6ddafcc65df  header\n",
       "4  2020-12-01 03:16:54.069 UTC  a182785b-5da1-4445-92a6-c6ddafcc65df  header"
      ]
     },
     "metadata": {},
     "output_type": "display_data"
    },
    {
     "name": "stdout",
     "output_type": "stream",
     "text": [
      "Data info:\n",
      "<class 'pandas.core.frame.DataFrame'>\n",
      "RangeIndex: 57407 entries, 0 to 57406\n",
      "Data columns (total 3 columns):\n",
      " #   Column        Non-Null Count  Dtype \n",
      "---  ------        --------------  ----- \n",
      " 0   timestamp     57407 non-null  object\n",
      " 1   anonymous_id  57407 non-null  object\n",
      " 2   source        57407 non-null  object\n",
      "dtypes: object(3)\n",
      "memory usage: 1.3+ MB\n"
     ]
    },
    {
     "data": {
      "text/plain": [
       "None"
      ]
     },
     "metadata": {},
     "output_type": "display_data"
    },
    {
     "name": "stdout",
     "output_type": "stream",
     "text": [
      "Number of missed values:\n",
      "timestamp       0\n",
      "anonymous_id    0\n",
      "source          0\n",
      "dtype: int64\n",
      "Data describe:\n"
     ]
    },
    {
     "data": {
      "text/html": [
       "<div>\n",
       "<style scoped>\n",
       "    .dataframe tbody tr th:only-of-type {\n",
       "        vertical-align: middle;\n",
       "    }\n",
       "\n",
       "    .dataframe tbody tr th {\n",
       "        vertical-align: top;\n",
       "    }\n",
       "\n",
       "    .dataframe thead th {\n",
       "        text-align: right;\n",
       "    }\n",
       "</style>\n",
       "<table border=\"1\" class=\"dataframe\">\n",
       "  <thead>\n",
       "    <tr style=\"text-align: right;\">\n",
       "      <th></th>\n",
       "      <th>timestamp</th>\n",
       "      <th>anonymous_id</th>\n",
       "      <th>source</th>\n",
       "    </tr>\n",
       "  </thead>\n",
       "  <tbody>\n",
       "    <tr>\n",
       "      <th>count</th>\n",
       "      <td>57407</td>\n",
       "      <td>57407</td>\n",
       "      <td>57407</td>\n",
       "    </tr>\n",
       "    <tr>\n",
       "      <th>unique</th>\n",
       "      <td>57401</td>\n",
       "      <td>29857</td>\n",
       "      <td>3</td>\n",
       "    </tr>\n",
       "    <tr>\n",
       "      <th>top</th>\n",
       "      <td>2020-11-27 03:36:15.422 UTC</td>\n",
       "      <td>f1d57251-1373-458c-8b64-a8113414ff65</td>\n",
       "      <td>header</td>\n",
       "    </tr>\n",
       "    <tr>\n",
       "      <th>freq</th>\n",
       "      <td>2</td>\n",
       "      <td>162</td>\n",
       "      <td>36553</td>\n",
       "    </tr>\n",
       "  </tbody>\n",
       "</table>\n",
       "</div>"
      ],
      "text/plain": [
       "                          timestamp                          anonymous_id  \\\n",
       "count                         57407                                 57407   \n",
       "unique                        57401                                 29857   \n",
       "top     2020-11-27 03:36:15.422 UTC  f1d57251-1373-458c-8b64-a8113414ff65   \n",
       "freq                              2                                   162   \n",
       "\n",
       "        source  \n",
       "count    57407  \n",
       "unique       3  \n",
       "top     header  \n",
       "freq     36553  "
      ]
     },
     "metadata": {},
     "output_type": "display_data"
    }
   ],
   "source": [
    "df_descr(shop_celect_start)"
   ]
  },
  {
   "cell_type": "code",
   "execution_count": 130,
   "id": "random-thomson",
   "metadata": {},
   "outputs": [
    {
     "name": "stdout",
     "output_type": "stream",
     "text": [
      "Data samples:\n"
     ]
    },
    {
     "data": {
      "text/html": [
       "<div>\n",
       "<style scoped>\n",
       "    .dataframe tbody tr th:only-of-type {\n",
       "        vertical-align: middle;\n",
       "    }\n",
       "\n",
       "    .dataframe tbody tr th {\n",
       "        vertical-align: top;\n",
       "    }\n",
       "\n",
       "    .dataframe thead th {\n",
       "        text-align: right;\n",
       "    }\n",
       "</style>\n",
       "<table border=\"1\" class=\"dataframe\">\n",
       "  <thead>\n",
       "    <tr style=\"text-align: right;\">\n",
       "      <th></th>\n",
       "      <th>timestamp</th>\n",
       "      <th>anonymous_id</th>\n",
       "      <th>source</th>\n",
       "    </tr>\n",
       "  </thead>\n",
       "  <tbody>\n",
       "    <tr>\n",
       "      <th>0</th>\n",
       "      <td>2020-11-30 17:33:43.161 UTC</td>\n",
       "      <td>bc5ea2f8-fd4c-4f85-a0cb-f777bf87b82c</td>\n",
       "      <td>address_modal</td>\n",
       "    </tr>\n",
       "    <tr>\n",
       "      <th>1</th>\n",
       "      <td>2020-11-30 16:38:32.893 UTC</td>\n",
       "      <td>2462f92f-e1f5-49cb-8174-ea938d210fd3</td>\n",
       "      <td>header</td>\n",
       "    </tr>\n",
       "    <tr>\n",
       "      <th>2</th>\n",
       "      <td>2020-11-30 17:25:06.712 UTC</td>\n",
       "      <td>290c7999-8392-41f8-ab31-e208fe65bd82</td>\n",
       "      <td>header</td>\n",
       "    </tr>\n",
       "    <tr>\n",
       "      <th>3</th>\n",
       "      <td>2020-11-30 04:55:43.421 UTC</td>\n",
       "      <td>15975d1c-3b06-46a5-b2f3-a393cc0be2ee</td>\n",
       "      <td>header</td>\n",
       "    </tr>\n",
       "    <tr>\n",
       "      <th>4</th>\n",
       "      <td>2020-11-30 04:55:43.43 UTC</td>\n",
       "      <td>15975d1c-3b06-46a5-b2f3-a393cc0be2ee</td>\n",
       "      <td>header</td>\n",
       "    </tr>\n",
       "  </tbody>\n",
       "</table>\n",
       "</div>"
      ],
      "text/plain": [
       "                     timestamp                          anonymous_id  \\\n",
       "0  2020-11-30 17:33:43.161 UTC  bc5ea2f8-fd4c-4f85-a0cb-f777bf87b82c   \n",
       "1  2020-11-30 16:38:32.893 UTC  2462f92f-e1f5-49cb-8174-ea938d210fd3   \n",
       "2  2020-11-30 17:25:06.712 UTC  290c7999-8392-41f8-ab31-e208fe65bd82   \n",
       "3  2020-11-30 04:55:43.421 UTC  15975d1c-3b06-46a5-b2f3-a393cc0be2ee   \n",
       "4   2020-11-30 04:55:43.43 UTC  15975d1c-3b06-46a5-b2f3-a393cc0be2ee   \n",
       "\n",
       "          source  \n",
       "0  address_modal  \n",
       "1         header  \n",
       "2         header  \n",
       "3         header  \n",
       "4         header  "
      ]
     },
     "metadata": {},
     "output_type": "display_data"
    },
    {
     "name": "stdout",
     "output_type": "stream",
     "text": [
      "Data info:\n",
      "<class 'pandas.core.frame.DataFrame'>\n",
      "RangeIndex: 211728 entries, 0 to 211727\n",
      "Data columns (total 3 columns):\n",
      " #   Column        Non-Null Count   Dtype \n",
      "---  ------        --------------   ----- \n",
      " 0   timestamp     211728 non-null  object\n",
      " 1   anonymous_id  211728 non-null  object\n",
      " 2   source        211728 non-null  object\n",
      "dtypes: object(3)\n",
      "memory usage: 4.8+ MB\n"
     ]
    },
    {
     "data": {
      "text/plain": [
       "None"
      ]
     },
     "metadata": {},
     "output_type": "display_data"
    },
    {
     "name": "stdout",
     "output_type": "stream",
     "text": [
      "Number of missed values:\n",
      "timestamp       0\n",
      "anonymous_id    0\n",
      "source          0\n",
      "dtype: int64\n",
      "Data describe:\n"
     ]
    },
    {
     "data": {
      "text/html": [
       "<div>\n",
       "<style scoped>\n",
       "    .dataframe tbody tr th:only-of-type {\n",
       "        vertical-align: middle;\n",
       "    }\n",
       "\n",
       "    .dataframe tbody tr th {\n",
       "        vertical-align: top;\n",
       "    }\n",
       "\n",
       "    .dataframe thead th {\n",
       "        text-align: right;\n",
       "    }\n",
       "</style>\n",
       "<table border=\"1\" class=\"dataframe\">\n",
       "  <thead>\n",
       "    <tr style=\"text-align: right;\">\n",
       "      <th></th>\n",
       "      <th>timestamp</th>\n",
       "      <th>anonymous_id</th>\n",
       "      <th>source</th>\n",
       "    </tr>\n",
       "  </thead>\n",
       "  <tbody>\n",
       "    <tr>\n",
       "      <th>count</th>\n",
       "      <td>211728</td>\n",
       "      <td>211728</td>\n",
       "      <td>211728</td>\n",
       "    </tr>\n",
       "    <tr>\n",
       "      <th>unique</th>\n",
       "      <td>210903</td>\n",
       "      <td>51751</td>\n",
       "      <td>3</td>\n",
       "    </tr>\n",
       "    <tr>\n",
       "      <th>top</th>\n",
       "      <td>2020-11-29 17:31:19.997 UTC</td>\n",
       "      <td>0d14ce81-19d5-451c-9c7f-1886ed3f71a6</td>\n",
       "      <td>header</td>\n",
       "    </tr>\n",
       "    <tr>\n",
       "      <th>freq</th>\n",
       "      <td>6</td>\n",
       "      <td>461</td>\n",
       "      <td>190608</td>\n",
       "    </tr>\n",
       "  </tbody>\n",
       "</table>\n",
       "</div>"
      ],
      "text/plain": [
       "                          timestamp                          anonymous_id  \\\n",
       "count                        211728                                211728   \n",
       "unique                       210903                                 51751   \n",
       "top     2020-11-29 17:31:19.997 UTC  0d14ce81-19d5-451c-9c7f-1886ed3f71a6   \n",
       "freq                              6                                   461   \n",
       "\n",
       "        source  \n",
       "count   211728  \n",
       "unique       3  \n",
       "top     header  \n",
       "freq    190608  "
      ]
     },
     "metadata": {},
     "output_type": "display_data"
    }
   ],
   "source": [
    "df_descr(shop_selected)"
   ]
  },
  {
   "cell_type": "markdown",
   "id": "fatal-visibility",
   "metadata": {},
   "source": [
    "Переведем дату и время нормальный формат, затем отдельно создадим колонку с датой "
   ]
  },
  {
   "cell_type": "code",
   "execution_count": 131,
   "id": "greatest-messenger",
   "metadata": {},
   "outputs": [],
   "source": [
    "for data in tables:\n",
    "    try:\n",
    "        data['timestamp'] = pd.to_datetime(data['timestamp'].astype(str).str[:-4])\n",
    "        data['date'] = data['timestamp'].dt.date\n",
    "    except KeyError:\n",
    "        data['timestamp'] = pd.to_datetime(data['hit_at'].astype(str).str[:-4])\n",
    "        data['date'] = data['timestamp'].dt.date"
   ]
  },
  {
   "cell_type": "code",
   "execution_count": 132,
   "id": "accompanied-survivor",
   "metadata": {},
   "outputs": [
    {
     "data": {
      "text/html": [
       "<div>\n",
       "<style scoped>\n",
       "    .dataframe tbody tr th:only-of-type {\n",
       "        vertical-align: middle;\n",
       "    }\n",
       "\n",
       "    .dataframe tbody tr th {\n",
       "        vertical-align: top;\n",
       "    }\n",
       "\n",
       "    .dataframe thead th {\n",
       "        text-align: right;\n",
       "    }\n",
       "</style>\n",
       "<table border=\"1\" class=\"dataframe\">\n",
       "  <thead>\n",
       "    <tr style=\"text-align: right;\">\n",
       "      <th></th>\n",
       "      <th>hit_at</th>\n",
       "      <th>anonymous_id</th>\n",
       "      <th>group</th>\n",
       "      <th>device_type</th>\n",
       "      <th>browser</th>\n",
       "      <th>os</th>\n",
       "      <th>timestamp</th>\n",
       "      <th>date</th>\n",
       "    </tr>\n",
       "  </thead>\n",
       "  <tbody>\n",
       "    <tr>\n",
       "      <th>0</th>\n",
       "      <td>2020-11-30 04:21:38.616 UTC</td>\n",
       "      <td>3e05a2dc-3922-4caf-b837-08fcb337c82e</td>\n",
       "      <td>default</td>\n",
       "      <td>desktop</td>\n",
       "      <td>IE</td>\n",
       "      <td>Windows</td>\n",
       "      <td>2020-11-30 04:21:38.616</td>\n",
       "      <td>2020-11-30</td>\n",
       "    </tr>\n",
       "    <tr>\n",
       "      <th>1</th>\n",
       "      <td>2020-12-01 20:24:04.363 UTC</td>\n",
       "      <td>7f00b6ca-7938-4866-a323-c520838f5ef9</td>\n",
       "      <td>default</td>\n",
       "      <td>desktop</td>\n",
       "      <td>IE</td>\n",
       "      <td>Windows</td>\n",
       "      <td>2020-12-01 20:24:04.363</td>\n",
       "      <td>2020-12-01</td>\n",
       "    </tr>\n",
       "    <tr>\n",
       "      <th>2</th>\n",
       "      <td>2020-11-28 20:16:52.901 UTC</td>\n",
       "      <td>91e9900e-2cc6-4362-92b4-9e6712a6918e</td>\n",
       "      <td>address_first</td>\n",
       "      <td>desktop</td>\n",
       "      <td>IE</td>\n",
       "      <td>Windows</td>\n",
       "      <td>2020-11-28 20:16:52.901</td>\n",
       "      <td>2020-11-28</td>\n",
       "    </tr>\n",
       "    <tr>\n",
       "      <th>3</th>\n",
       "      <td>2020-11-29 13:29:40.557 UTC</td>\n",
       "      <td>616dd5e8-dee2-47aa-9d80-0dfadcf1922f</td>\n",
       "      <td>default</td>\n",
       "      <td>desktop</td>\n",
       "      <td>IE</td>\n",
       "      <td>Windows</td>\n",
       "      <td>2020-11-29 13:29:40.557</td>\n",
       "      <td>2020-11-29</td>\n",
       "    </tr>\n",
       "    <tr>\n",
       "      <th>4</th>\n",
       "      <td>2020-11-27 14:56:29.471 UTC</td>\n",
       "      <td>64734da4-d9f3-4d53-b401-4d0819a6e5fb</td>\n",
       "      <td>default</td>\n",
       "      <td>desktop</td>\n",
       "      <td>IE</td>\n",
       "      <td>Windows</td>\n",
       "      <td>2020-11-27 14:56:29.471</td>\n",
       "      <td>2020-11-27</td>\n",
       "    </tr>\n",
       "  </tbody>\n",
       "</table>\n",
       "</div>"
      ],
      "text/plain": [
       "                        hit_at                          anonymous_id  \\\n",
       "0  2020-11-30 04:21:38.616 UTC  3e05a2dc-3922-4caf-b837-08fcb337c82e   \n",
       "1  2020-12-01 20:24:04.363 UTC  7f00b6ca-7938-4866-a323-c520838f5ef9   \n",
       "2  2020-11-28 20:16:52.901 UTC  91e9900e-2cc6-4362-92b4-9e6712a6918e   \n",
       "3  2020-11-29 13:29:40.557 UTC  616dd5e8-dee2-47aa-9d80-0dfadcf1922f   \n",
       "4  2020-11-27 14:56:29.471 UTC  64734da4-d9f3-4d53-b401-4d0819a6e5fb   \n",
       "\n",
       "           group device_type browser       os               timestamp  \\\n",
       "0        default     desktop      IE  Windows 2020-11-30 04:21:38.616   \n",
       "1        default     desktop      IE  Windows 2020-12-01 20:24:04.363   \n",
       "2  address_first     desktop      IE  Windows 2020-11-28 20:16:52.901   \n",
       "3        default     desktop      IE  Windows 2020-11-29 13:29:40.557   \n",
       "4        default     desktop      IE  Windows 2020-11-27 14:56:29.471   \n",
       "\n",
       "         date  \n",
       "0  2020-11-30  \n",
       "1  2020-12-01  \n",
       "2  2020-11-28  \n",
       "3  2020-11-29  \n",
       "4  2020-11-27  "
      ]
     },
     "execution_count": 132,
     "metadata": {},
     "output_type": "execute_result"
    }
   ],
   "source": [
    "ab_test_hit.head()"
   ]
  },
  {
   "cell_type": "markdown",
   "id": "integral-sudan",
   "metadata": {},
   "source": [
    "Проверим дубликаты в распределении на группы"
   ]
  },
  {
   "cell_type": "code",
   "execution_count": 133,
   "id": "atlantic-basket",
   "metadata": {},
   "outputs": [
    {
     "name": "stdout",
     "output_type": "stream",
     "text": [
      "13765\n"
     ]
    }
   ],
   "source": [
    "print(ab_test_hit.anonymous_id.count()-ab_test_hit.anonymous_id.nunique())"
   ]
  },
  {
   "cell_type": "markdown",
   "id": "exposed-heater",
   "metadata": {},
   "source": [
    "13 тысяч людей были занесены в эксперимент несколько раз, удалим их"
   ]
  },
  {
   "cell_type": "code",
   "execution_count": 134,
   "id": "expensive-samuel",
   "metadata": {},
   "outputs": [],
   "source": [
    "ab_test_hit.drop_duplicates(subset=['anonymous_id'], inplace=True)    "
   ]
  },
  {
   "cell_type": "code",
   "execution_count": 135,
   "id": "broadband-consultation",
   "metadata": {},
   "outputs": [
    {
     "name": "stdout",
     "output_type": "stream",
     "text": [
      "0\n"
     ]
    }
   ],
   "source": [
    "print(ab_test_hit.anonymous_id.count()-ab_test_hit.anonymous_id.nunique())"
   ]
  },
  {
   "cell_type": "markdown",
   "id": "authorized-lunch",
   "metadata": {},
   "source": [
    "Посмотрим на распределения основных категориальных переменных"
   ]
  },
  {
   "cell_type": "code",
   "execution_count": 136,
   "id": "reliable-receipt",
   "metadata": {},
   "outputs": [
    {
     "name": "stderr",
     "output_type": "stream",
     "text": [
      "C:\\Users\\User\\anaconda3\\lib\\site-packages\\seaborn\\_decorators.py:36: FutureWarning: Pass the following variable as a keyword arg: x. From version 0.12, the only valid positional argument will be `data`, and passing other arguments without an explicit keyword will result in an error or misinterpretation.\n",
      "  warnings.warn(\n",
      "C:\\Users\\User\\anaconda3\\lib\\site-packages\\seaborn\\_decorators.py:36: FutureWarning: Pass the following variable as a keyword arg: x. From version 0.12, the only valid positional argument will be `data`, and passing other arguments without an explicit keyword will result in an error or misinterpretation.\n",
      "  warnings.warn(\n"
     ]
    },
    {
     "data": {
      "image/png": "[encoded data removed]",
      "text/plain": [
       "<Figure size 1008x288 with 2 Axes>"
      ]
     },
     "metadata": {},
     "output_type": "display_data"
    }
   ],
   "source": [
    "fig, ax = plt.subplots(1, 2, figsize=(14,4))\n",
    "sns.countplot(ab_test_hit['group'], ax=ax[0])\n",
    "sns.countplot(ab_test_hit['device_type'], ax=ax[1])\n",
    "ax[0].set_title(\"А/В распределение\",font=\"Serif\");\n",
    "ax[1].set_title(\"Распределение девайсов\",font=\"Serif\");"
   ]
  },
  {
   "cell_type": "markdown",
   "id": "junior-focus",
   "metadata": {},
   "source": [
    "Слишком большой дисбаланс классов, что может плохо повлиять на результаты тестирования"
   ]
  },
  {
   "cell_type": "code",
   "execution_count": 137,
   "id": "double-decimal",
   "metadata": {},
   "outputs": [
    {
     "data": {
      "image/png": "[encoded data removed]",
      "text/plain": [
       "<Figure size 720x576 with 1 Axes>"
      ]
     },
     "metadata": {},
     "output_type": "display_data"
    }
   ],
   "source": [
    "plt.figure(figsize=(10,8))\n",
    "sns.countplot(y=ab_test_hit['browser'], order = ab_test_hit['browser'].value_counts().index)\n",
    "plt.title('Распределение по браузерам');"
   ]
  },
  {
   "cell_type": "code",
   "execution_count": 138,
   "id": "characteristic-yellow",
   "metadata": {},
   "outputs": [
    {
     "data": {
      "image/png": "[encoded data removed]",
      "text/plain": [
       "<Figure size 720x576 with 1 Axes>"
      ]
     },
     "metadata": {},
     "output_type": "display_data"
    }
   ],
   "source": [
    "plt.figure(figsize=(10,8))\n",
    "sns.countplot(y=ab_test_hit['os'], order = ab_test_hit['os'].value_counts().index)\n",
    "plt.title('Распределение по операционной сети');"
   ]
  },
  {
   "cell_type": "markdown",
   "id": "cooked-enzyme",
   "metadata": {},
   "source": [
    "Встречаются люди, которые заходили на сайт через playstation, что очень интересно"
   ]
  },
  {
   "cell_type": "markdown",
   "id": "stock-lesson",
   "metadata": {},
   "source": [
    "Изучим аномальные значения в каждой из таблиц`"
   ]
  },
  {
   "cell_type": "code",
   "execution_count": 139,
   "id": "formed-shakespeare",
   "metadata": {},
   "outputs": [
    {
     "data": {
      "image/png": "[encoded data removed]",
      "text/plain": [
       "<Figure size 720x576 with 1 Axes>"
      ]
     },
     "metadata": {},
     "output_type": "display_data"
    }
   ],
   "source": [
    "fig, ax = plt.subplots(1, 1,figsize=(10,8))\n",
    "exp_data = land_view.groupby('date', as_index=False).agg({'anonymous_id':'nunique'})\n",
    "sns.lineplot(data=exp_data, x='date', y='anonymous_id', ax=ax)\n",
    "ax.axvline('2020-12-10')\n",
    "ax.set_title('Просмотр лендинга');"
   ]
  },
  {
   "cell_type": "markdown",
   "id": "pretty-induction",
   "metadata": {},
   "source": [
    "В середине декабря резко снизилось уникальное чило пользователей, видимо это произошло из за того, что в эксперимент перестали добавлять новых пользователей"
   ]
  },
  {
   "cell_type": "code",
   "execution_count": 140,
   "id": "confused-carolina",
   "metadata": {},
   "outputs": [
    {
     "data": {
      "image/png": "[encoded data removed]",
      "text/plain": [
       "<Figure size 432x288 with 1 Axes>"
      ]
     },
     "metadata": {},
     "output_type": "display_data"
    }
   ],
   "source": [
    "number_of_prod = prod_added.groupby('anonymous_id', as_index=False).agg({'anonymous_id':'count'})\n",
    "sns.boxplot(y=number_of_prod['anonymous_id'])\n",
    "plt.title('Добавления в корзину');"
   ]
  },
  {
   "cell_type": "markdown",
   "id": "aboriginal-november",
   "metadata": {},
   "source": [
    "Присутствуют люди, у которых более 500 добавлений в корзину, возможно это тестировщики."
   ]
  },
  {
   "cell_type": "code",
   "execution_count": 141,
   "id": "cubic-wells",
   "metadata": {},
   "outputs": [
    {
     "data": {
      "image/png": "[encoded data removed]",
      "text/plain": [
       "<Figure size 720x432 with 1 Axes>"
      ]
     },
     "metadata": {},
     "output_type": "display_data"
    }
   ],
   "source": [
    "plt.figure(figsize=(10,6))\n",
    "spent_money = order_completed.groupby('anonymous_id', as_index=False).agg({'order_sum': 'sum'})\n",
    "sns.histplot(data=spent_money, x='order_sum')\n",
    "plt.xlim(0,spent_money.quantile(0.99)[0]);\n",
    "plt.title('Распределение суммы заказа');"
   ]
  },
  {
   "cell_type": "markdown",
   "id": "likely-opening",
   "metadata": {},
   "source": [
    "В данных присутствуют очень дорогие заказы, стоимостью более 100 тысяч, поэтому для наглядности графика, я поставил лимит по 99 квантилю"
   ]
  },
  {
   "cell_type": "markdown",
   "id": "macro-parliament",
   "metadata": {},
   "source": [
    "Посмотрим на средний чек в разделении по группам и времени"
   ]
  },
  {
   "cell_type": "code",
   "execution_count": 149,
   "id": "senior-egyptian",
   "metadata": {},
   "outputs": [],
   "source": [
    "merged = order_completed.merge(ab_test_hit, on=['anonymous_id'], how='inner', suffixes=['_order', '_ab'] )"
   ]
  },
  {
   "cell_type": "code",
   "execution_count": 151,
   "id": "fiscal-adapter",
   "metadata": {},
   "outputs": [
    {
     "data": {
      "text/html": [
       "<div>\n",
       "<style scoped>\n",
       "    .dataframe tbody tr th:only-of-type {\n",
       "        vertical-align: middle;\n",
       "    }\n",
       "\n",
       "    .dataframe tbody tr th {\n",
       "        vertical-align: top;\n",
       "    }\n",
       "\n",
       "    .dataframe thead th {\n",
       "        text-align: right;\n",
       "    }\n",
       "</style>\n",
       "<table border=\"1\" class=\"dataframe\">\n",
       "  <thead>\n",
       "    <tr style=\"text-align: right;\">\n",
       "      <th></th>\n",
       "      <th>count</th>\n",
       "      <th>mean</th>\n",
       "      <th>std</th>\n",
       "      <th>median</th>\n",
       "      <th>max</th>\n",
       "      <th>min</th>\n",
       "    </tr>\n",
       "    <tr>\n",
       "      <th>group</th>\n",
       "      <th></th>\n",
       "      <th></th>\n",
       "      <th></th>\n",
       "      <th></th>\n",
       "      <th></th>\n",
       "      <th></th>\n",
       "    </tr>\n",
       "  </thead>\n",
       "  <tbody>\n",
       "    <tr>\n",
       "      <th>address_first</th>\n",
       "      <td>1893</td>\n",
       "      <td>6359.109562</td>\n",
       "      <td>9138.968766</td>\n",
       "      <td>4276.953248</td>\n",
       "      <td>179033.647306</td>\n",
       "      <td>39.714437</td>\n",
       "    </tr>\n",
       "    <tr>\n",
       "      <th>default</th>\n",
       "      <td>14757</td>\n",
       "      <td>6275.680683</td>\n",
       "      <td>11019.532074</td>\n",
       "      <td>4093.104058</td>\n",
       "      <td>530038.408148</td>\n",
       "      <td>3.382452</td>\n",
       "    </tr>\n",
       "  </tbody>\n",
       "</table>\n",
       "</div>"
      ],
      "text/plain": [
       "               count         mean           std       median            max  \\\n",
       "group                                                                         \n",
       "address_first   1893  6359.109562   9138.968766  4276.953248  179033.647306   \n",
       "default        14757  6275.680683  11019.532074  4093.104058  530038.408148   \n",
       "\n",
       "                     min  \n",
       "group                     \n",
       "address_first  39.714437  \n",
       "default         3.382452  "
      ]
     },
     "execution_count": 151,
     "metadata": {},
     "output_type": "execute_result"
    }
   ],
   "source": [
    "merged.groupby('group')['order_sum'].agg(['count','mean', 'std', 'median', 'max', 'min'])"
   ]
  },
  {
   "cell_type": "code",
   "execution_count": 153,
   "id": "respective-quilt",
   "metadata": {},
   "outputs": [
    {
     "data": {
      "text/plain": [
       "<AxesSubplot:xlabel='date_order', ylabel='order_sum'>"
      ]
     },
     "execution_count": 153,
     "metadata": {},
     "output_type": "execute_result"
    },
    {
     "data": {
      "image/png": "[encoded data removed]",
      "text/plain": [
       "<Figure size 720x432 with 1 Axes>"
      ]
     },
     "metadata": {},
     "output_type": "display_data"
    }
   ],
   "source": [
    "plt.figure(figsize=(10,6))\n",
    "sns.lineplot(data=merged, x='date_order', y='order_sum', hue='group')"
   ]
  },
  {
   "cell_type": "markdown",
   "id": "closing-slovak",
   "metadata": {},
   "source": [
    "Cредний чек и медиана в тестовой группе выше."
   ]
  },
  {
   "cell_type": "markdown",
   "id": "running-sperm",
   "metadata": {},
   "source": [
    "## Подготовка к тесту"
   ]
  },
  {
   "cell_type": "markdown",
   "id": "monthly-foundation",
   "metadata": {},
   "source": [
    "Удалим выбросы по заказам и количеству продуктов"
   ]
  },
  {
   "cell_type": "code",
   "execution_count": 154,
   "id": "weighted-behavior",
   "metadata": {},
   "outputs": [
    {
     "data": {
      "text/plain": [
       "50      0188e7c6-4f37-4253-8ee3-4f05cd65a7f5\n",
       "86      02d28916-f609-4bc3-b8dc-1f6b61d612f9\n",
       "146     0499e947-4740-4773-8ed6-b0417080c5c4\n",
       "350     0afc765f-3f23-4c21-858a-5f345e9adffb\n",
       "758     17385629-5ea5-4050-8147-768c0bbc3131\n",
       "                        ...                 \n",
       "8309    f295f56b-4bcd-41da-bed2-90818640ebde\n",
       "8430    f6005048-7a9b-42de-95be-5a77b3bb3bae\n",
       "8508    f7fa4b93-2aa0-47a2-ac48-c6a03b3616dc\n",
       "8755    ff776437-291b-4782-b60a-09df43501978\n",
       "8759    ff9530c1-6111-4e03-91c4-a06083056c96\n",
       "Name: anonymous_id, Length: 88, dtype: object"
      ]
     },
     "execution_count": 154,
     "metadata": {},
     "output_type": "execute_result"
    }
   ],
   "source": [
    "order_outliers = order_completed.groupby('anonymous_id', as_index=False).agg({'order_sum': 'sum'})\n",
    "order_outliers = order_outliers[order_outliers['order_sum'] > order_outliers.quantile(0.99)[0]]['anonymous_id']\n",
    "order_outliers"
   ]
  },
  {
   "cell_type": "code",
   "execution_count": 155,
   "id": "parental-dublin",
   "metadata": {},
   "outputs": [],
   "source": [
    "prod_outliers = prod_added.groupby('anonymous_id', as_index=False).count()\n",
    "prod_outliers = prod_outliers[prod_outliers['timestamp'] > prod_outliers.quantile(0.99)[0]]['anonymous_id']"
   ]
  },
  {
   "cell_type": "code",
   "execution_count": 156,
   "id": "rural-plasma",
   "metadata": {},
   "outputs": [
    {
     "data": {
      "text/plain": [
       "111      00aba948-b609-4c64-a2f0-15f556d72251\n",
       "203      01321c69-904e-47f1-9048-89a88dab15bb\n",
       "218      014c10ee-3c04-4461-b9c4-0dbae2fea221\n",
       "242      017f44d6-7260-4a68-a7e3-a7bda01ef7fc\n",
       "251      0188e7c6-4f37-4253-8ee3-4f05cd65a7f5\n",
       "                         ...                 \n",
       "43286    fb498d45-2ff4-4ab4-a876-86b3fc8d0dc3\n",
       "43295    fb56cc28-c5ff-4be6-bab9-f1421dd98f46\n",
       "43384    fbc67c85-fdee-4eec-97e1-358c3f2b81ab\n",
       "43452    fc25c0b9-469e-41c2-a651-cbebb9e9baf2\n",
       "43702    fda02bcb-64fc-47ca-b1bd-945203b108ba\n",
       "Name: anonymous_id, Length: 440, dtype: object"
      ]
     },
     "execution_count": 156,
     "metadata": {},
     "output_type": "execute_result"
    }
   ],
   "source": [
    "prod_outliers"
   ]
  },
  {
   "cell_type": "code",
   "execution_count": 157,
   "id": "south-wright",
   "metadata": {},
   "outputs": [],
   "source": [
    "ab_test_hit = ab_test_hit[~ab_test_hit['anonymous_id'].isin(prod_outliers)]\n",
    "ab_test_hit = ab_test_hit[~ab_test_hit['anonymous_id'].isin(order_outliers)]"
   ]
  },
  {
   "cell_type": "code",
   "execution_count": 158,
   "id": "enabling-negative",
   "metadata": {},
   "outputs": [],
   "source": [
    "ab_merged = ab_test_hit.merge(land_view, on='anonymous_id', how='left', suffixes=['_ab', '_land'])"
   ]
  },
  {
   "cell_type": "code",
   "execution_count": 159,
   "id": "executive-pipeline",
   "metadata": {},
   "outputs": [
    {
     "name": "stdout",
     "output_type": "stream",
     "text": [
      "<class 'pandas.core.frame.DataFrame'>\n",
      "Int64Index: 617633 entries, 0 to 617632\n",
      "Data columns (total 10 columns):\n",
      " #   Column          Non-Null Count   Dtype         \n",
      "---  ------          --------------   -----         \n",
      " 0   hit_at          617633 non-null  object        \n",
      " 1   anonymous_id    617633 non-null  object        \n",
      " 2   group           617633 non-null  object        \n",
      " 3   device_type     617633 non-null  object        \n",
      " 4   browser         617633 non-null  object        \n",
      " 5   os              617631 non-null  object        \n",
      " 6   timestamp_ab    617633 non-null  datetime64[ns]\n",
      " 7   date_ab         617633 non-null  object        \n",
      " 8   timestamp_land  339695 non-null  datetime64[ns]\n",
      " 9   date_land       339695 non-null  object        \n",
      "dtypes: datetime64[ns](2), object(8)\n",
      "memory usage: 51.8+ MB\n"
     ]
    }
   ],
   "source": [
    "ab_merged.info()"
   ]
  },
  {
   "cell_type": "code",
   "execution_count": 175,
   "id": "constitutional-switch",
   "metadata": {},
   "outputs": [
    {
     "name": "stdout",
     "output_type": "stream",
     "text": [
      "Количество участников эксперимента, которые не посещали лендинг: 0.5511509446752467\n"
     ]
    }
   ],
   "source": [
    "print('Количество участников эксперимента, которые не посещали лендинг: {}'.format(341481/619578))"
   ]
  },
  {
   "cell_type": "markdown",
   "id": "blessed-hampton",
   "metadata": {},
   "source": [
    "## Тест конверсии добавления товара в корзину"
   ]
  },
  {
   "cell_type": "markdown",
   "id": "designing-worker",
   "metadata": {},
   "source": [
    "Так как для нас важную роль в эксперименте является просмотр лендинга, не будем учитывать пользователей, которые на него не заходили, для этого используем inner join.\n",
    "\n",
    "Для расчета конверсии будем использовать добавление товара в корзину"
   ]
  },
  {
   "cell_type": "code",
   "execution_count": 161,
   "id": "several-adams",
   "metadata": {},
   "outputs": [],
   "source": [
    "ab_merged = ab_test_hit.merge(land_view, on='anonymous_id', how='inner', suffixes=['_ab', '_land'])\n",
    "ab_merged = ab_merged.merge(prod_added, on='anonymous_id', how='left')\n",
    "grouped = ab_merged.groupby(['anonymous_id', 'date_land']).agg({'timestamp_land':'first', 'timestamp':'first'}).reset_index()\n",
    "\n",
    "grouped['prod_added'] = grouped.timestamp.apply(lambda x: 0 if type(x)==pd._libs.tslibs.nattype.NaTType else 1)\n",
    "\n",
    "grouped = grouped.merge(ab_test_hit[['group', 'anonymous_id']], on='anonymous_id', how='left')"
   ]
  },
  {
   "cell_type": "code",
   "execution_count": 162,
   "id": "taken-median",
   "metadata": {},
   "outputs": [],
   "source": [
    "a_group = grouped[grouped['group'] == 'default']\n",
    "b_group = grouped[grouped['group'] == 'address_first']"
   ]
  },
  {
   "cell_type": "code",
   "execution_count": 163,
   "id": "latest-northern",
   "metadata": {},
   "outputs": [
    {
     "name": "stdout",
     "output_type": "stream",
     "text": [
      "Конверсия добавления в корзику у А группы: 0.16137871707012957\n",
      "Конверсия добавления в корзику у В группы: 0.18424894352669996\n"
     ]
    }
   ],
   "source": [
    "print('Конверсия добавления в корзику у А группы: {}'.format(a_group.prod_added.mean()))\n",
    "print('Конверсия добавления в корзику у В группы: {}'.format(b_group.prod_added.mean()))"
   ]
  },
  {
   "cell_type": "markdown",
   "id": "moral-teacher",
   "metadata": {},
   "source": [
    "Будем проверять гипотезу о равенстве долей, для этого воспользуемся z тестом"
   ]
  },
  {
   "cell_type": "markdown",
   "id": "indian-alloy",
   "metadata": {},
   "source": [
    "Нулевая гипотеза: доли пользователей, совершивших добавление товара в корзику, в\n",
    "группах address_first и default не различаются.\n",
    "\n",
    "Альтернативная гипотеза: доли пользователей, совершивших добавление товара в корзину, в\n",
    "группах address_first и default различаются.\n",
    "\n"
   ]
  },
  {
   "cell_type": "code",
   "execution_count": 164,
   "id": "least-energy",
   "metadata": {},
   "outputs": [],
   "source": [
    "def asy_mean_test(mean_hat, std_hat, mu_0=0, \n",
    "                   alpha=0.05, alternative='two-sided', margin=3):\n",
    "    \"\"\"\n",
    "        Асимптотический тест для равенства средних\n",
    "    \"\"\"\n",
    "    \n",
    "    z_obs = (mean_hat - mu_0)/std_hat\n",
    "    \n",
    "    if alternative == 'two-sided':\n",
    "        p_value = 2 * (1 - stats.norm().cdf(np.abs(z_obs)))\n",
    "        z_crit = stats.norm().ppf(1 - alpha/2)\n",
    "        \n",
    "        statistics = ['-z_crit', 'z_crit', '-z_obs', 'z_obs']\n",
    "        params = dict(zip(statistics, [(-z_crit, -0.6, -margin, -z_crit, 'b'), \n",
    "                                       (z_crit, 0.05, z_crit, margin, 'b'),\n",
    "                                       (-z_obs, -0.6, -margin, -z_obs, 'r'), \n",
    "                                       (z_obs, 0.1, z_obs, margin, 'r')]))\n",
    "    \n",
    "    if alternative == 'less':\n",
    "        p_value = stats.norm().cdf(z_obs)\n",
    "        z_crit = stats.norm().ppf(1 - alpha)\n",
    "        \n",
    "        statistics = ['-z_crit', '-z_obs']\n",
    "        params = dict(zip(statistics, [(-z_crit, -0.6, -margin, -z_crit, 'b'), \n",
    "                                       (-z_obs, -0.6, -margin, -z_obs, 'r')]))\n",
    "\n",
    "    if alternative == 'larger':\n",
    "        p_value = 1 - stats.norm().cdf(z_obs)\n",
    "        z_crit = stats.norm().ppf(1 - alpha)\n",
    "        \n",
    "        statistics = ['z_crit', 'z_obs']\n",
    "        params = dict(zip(statistics, [(z_crit, 0.05, z_crit, margin, 'b'),\n",
    "                                       (z_obs, 0.1, z_obs, margin, 'r')]))\n",
    "    \n",
    "    \n",
    "    plt.figure(figsize = (10, 5))\n",
    "    x = np.linspace(-margin, margin)\n",
    "    pdf = stats.norm().pdf(x)\n",
    "\n",
    "    plt.plot(x, pdf, color=\"black\")\n",
    "    plt.ylabel(\"$f(x)$\", fontsize=16)\n",
    "    plt.xlabel(\"$x$\", fontsize=16)\n",
    "    y_max = plt.ylim()[1]\n",
    "    \n",
    "    for i in range(len(statistics)):\n",
    "        statistic, text_margin, left_bound, right_bound, color = params[statistics[i]]\n",
    "        \n",
    "        plt.axvline(statistic, color=color, linestyle=\"--\", lw=2)\n",
    "        h = 0.8 if statistics[i].split('_')[-1] == 'crit' else 0.6\n",
    "        plt.text(statistic + text_margin, \n",
    "                 h*y_max, round(statistic, 2), color=color, fontsize=16)\n",
    "        \n",
    "        xq = np.linspace(left_bound, right_bound)\n",
    "        yq = stats.norm().pdf(xq)\n",
    "        plt.fill_between(xq, 0, yq, color=color, alpha=0.2)\n",
    "    \n",
    "    return p_value"
   ]
  },
  {
   "cell_type": "code",
   "execution_count": 165,
   "id": "checked-glasgow",
   "metadata": {},
   "outputs": [],
   "source": [
    "alpha = 0.05                                       # уровень значимости = 5%\n",
    "n1,n2 = a_group.prod_added.size, b_group.prod_added.size                      # размеры выборок\n",
    "m1,m2 = a_group.prod_added.sum(), b_group.prod_added.sum()                    # число успехов\n",
    "\n",
    "\n",
    "P = (m1 + m2)/(n1 + n2)\n",
    "a_nu = a_group.prod_added.mean()\n",
    "b_nu = b_group.prod_added.mean()\n",
    "\n",
    "diff = b_nu - a_nu\n",
    "\n",
    "diff_std = np.sqrt(P*(1 - P)*(1/n1 + 1/n2))"
   ]
  },
  {
   "cell_type": "code",
   "execution_count": 166,
   "id": "tested-client",
   "metadata": {},
   "outputs": [
    {
     "data": {
      "text/plain": [
       "0.0"
      ]
     },
     "execution_count": 166,
     "metadata": {},
     "output_type": "execute_result"
    },
    {
     "data": {
      "image/png": "[encoded data removed]",
      "text/plain": [
       "<Figure size 720x360 with 1 Axes>"
      ]
     },
     "metadata": {},
     "output_type": "display_data"
    }
   ],
   "source": [
    "asy_mean_test(diff, diff_std)"
   ]
  },
  {
   "cell_type": "markdown",
   "id": "stuck-devices",
   "metadata": {},
   "source": [
    "Конверсия у добавления в корзину у второй группы получилось значимо выше чем у первой,это позволяет отклонить нулевую гипотезу"
   ]
  },
  {
   "cell_type": "markdown",
   "id": "convinced-illustration",
   "metadata": {},
   "source": [
    "## Тест bounce rate"
   ]
  },
  {
   "cell_type": "markdown",
   "id": "exclusive-rebecca",
   "metadata": {},
   "source": [
    "Для расчета оттока для первой группы будем использовать переход на главную страницу, для второй переход на страницу с добавлением адреса"
   ]
  },
  {
   "cell_type": "code",
   "execution_count": 167,
   "id": "metallic-comparative",
   "metadata": {},
   "outputs": [],
   "source": [
    "a_bounce = ab_test_hit[ab_test_hit['group'] == 'default']\n",
    "\n",
    "b_bounce = ab_test_hit[ab_test_hit['group'] == 'address_first']"
   ]
  },
  {
   "cell_type": "markdown",
   "id": "automated-tissue",
   "metadata": {},
   "source": [
    "Для расчета оттока для первой группы будем использовать переход на главную страницу, для второй переход на страницу с добавлением адр"
   ]
  },
  {
   "cell_type": "code",
   "execution_count": 168,
   "id": "familiar-holly",
   "metadata": {},
   "outputs": [],
   "source": [
    "a_bounce = a_bounce.merge(land_view, on='anonymous_id', how='inner', suffixes=['_ab', '_land'])\n",
    "a_bounce = a_bounce.merge(main_page_view, on='anonymous_id', how='left')\n",
    "\n",
    "grouped_bounce_a = a_bounce.groupby(['anonymous_id', 'date_land']).agg({'timestamp_land':'first', 'timestamp':'first'}).reset_index()\n",
    "\n",
    "grouped_bounce_a['passed'] = grouped_bounce_a.timestamp.apply(lambda x: 1 if type(x)==pd._libs.tslibs.nattype.NaTType else 0)"
   ]
  },
  {
   "cell_type": "code",
   "execution_count": 169,
   "id": "distant-degree",
   "metadata": {},
   "outputs": [],
   "source": [
    "a_rate = grouped_bounce_a.passed.mean()"
   ]
  },
  {
   "cell_type": "code",
   "execution_count": 170,
   "id": "fuzzy-criticism",
   "metadata": {},
   "outputs": [],
   "source": [
    "b_bounce = b_bounce.merge(land_view, on='anonymous_id', how='inner', suffixes=['_ab', '_land'])\n",
    "b_bounce = b_bounce.merge(addr_change, on='anonymous_id', how='left')\n",
    "grouped_bounce_b = b_bounce.groupby(['anonymous_id', 'date_land']).agg({'timestamp_land':'first', 'timestamp':'first'}).reset_index()\n",
    "grouped_bounce_b['passed'] = grouped_bounce_b.timestamp.apply(lambda x: 1 if type(x)==pd._libs.tslibs.nattype.NaTType else 0)"
   ]
  },
  {
   "cell_type": "code",
   "execution_count": 171,
   "id": "sonic-blocking",
   "metadata": {},
   "outputs": [],
   "source": [
    "b_rate = grouped_bounce_b.passed.mean()"
   ]
  },
  {
   "cell_type": "code",
   "execution_count": 172,
   "id": "marked-august",
   "metadata": {},
   "outputs": [
    {
     "name": "stdout",
     "output_type": "stream",
     "text": [
      "bounce rate в первой группе: 0.5155207160358984, bounce rate во второй группе: 0.5902420284287361\n"
     ]
    }
   ],
   "source": [
    "print('bounce rate в первой группе: {}, bounce rate во второй группе: {}'.format(a_rate, b_rate))"
   ]
  },
  {
   "cell_type": "markdown",
   "id": "excess-counter",
   "metadata": {},
   "source": [
    "Проверим статичтическую значимость различий.\n",
    "\n",
    "Нулеваая гипотеза: Bounce rate в обеих группах равны\n",
    "Альтернативная гипотеза: Bounce rate в группах различны\n",
    "\n",
    "Проверять будем на уровне значимости 5 % с помощью z теста"
   ]
  },
  {
   "cell_type": "code",
   "execution_count": 173,
   "id": "intellectual-brazil",
   "metadata": {},
   "outputs": [],
   "source": [
    "alpha = 0.05                                       # уровень значимости = 5%\n",
    "n1,n2 = grouped_bounce_a.passed.size, grouped_bounce_b.passed.size                      # размеры выборок\n",
    "m1,m2 = grouped_bounce_a.passed.sum(), grouped_bounce_b.passed.sum()                    # число успехов\n",
    "\n",
    "\n",
    "P = (m1 + m2)/(n1 + n2)\n",
    "a_nu = a_rate\n",
    "b_nu = b_rate\n",
    "\n",
    "diff = b_nu - a_nu\n",
    "\n",
    "diff_std = np.sqrt(P*(1 - P)*(1/n1 + 1/n2))"
   ]
  },
  {
   "cell_type": "code",
   "execution_count": 174,
   "id": "ranging-zoning",
   "metadata": {},
   "outputs": [
    {
     "data": {
      "text/plain": [
       "0.0"
      ]
     },
     "execution_count": 174,
     "metadata": {},
     "output_type": "execute_result"
    },
    {
     "data": {
      "image/png": "[encoded data removed]",
      "text/plain": [
       "<Figure size 720x360 with 1 Axes>"
      ]
     },
     "metadata": {},
     "output_type": "display_data"
    }
   ],
   "source": [
    "asy_mean_test(diff, diff_std)"
   ]
  },
  {
   "cell_type": "markdown",
   "id": "located-looking",
   "metadata": {},
   "source": [
    "Увеличение оттока клиента в тестовой группе статистически значимо, это компенсируется увеличением конверсии"
   ]
  },
  {
   "cell_type": "code",
   "execution_count": null,
   "id": "nearby-exclusion",
   "metadata": {},
   "outputs": [],
   "source": []
  }
 ],
 "metadata": {
  "kernelspec": {
   "display_name": "Python 3",
   "language": "python",
   "name": "python3"
  },
  "language_info": {
   "codemirror_mode": {
    "name": "ipython",
    "version": 3
   },
   "file_extension": ".py",
   "mimetype": "text/x-python",
   "name": "python",
   "nbconvert_exporter": "python",
   "pygments_lexer": "ipython3",
   "version": "3.8.5"
  }
 },
 "nbformat": 4,
 "nbformat_minor": 5
}
